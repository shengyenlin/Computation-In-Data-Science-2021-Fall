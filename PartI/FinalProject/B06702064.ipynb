{
 "cells": [
  {
   "cell_type": "code",
   "execution_count": 68,
   "metadata": {},
   "outputs": [],
   "source": [
    "import numpy as np\n",
    "import matplotlib.pyplot as plt \n",
    "import importlib\n",
    "import HeuristicsAlgo\n",
    "importlib.reload(HeuristicsAlgo)\n",
    "from HeuristicsAlgo import (\n",
    "    read_distance_matrix, print_solution_route, HillClimbing, \n",
    "    RandomWalk, SimulatedAnnealing, GeneticAlgorithm, \n",
    "    TabuSearch, ParticalSwarmOptimization, AntColonyOptimization, CuckooSearch\n",
    ")\n",
    "np.random.seed(5080)"
   ]
  },
  {
   "cell_type": "code",
   "execution_count": 26,
   "metadata": {},
   "outputs": [],
   "source": [
    "distance_matrix, store_names = read_distance_matrix('adjacency_matrix.json')"
   ]
  },
  {
   "cell_type": "code",
   "execution_count": 14,
   "metadata": {},
   "outputs": [],
   "source": [
    "max_iter = 500\n",
    "HC = HillClimbing(distance_matrix, max_iter)\n",
    "HC.solve(verbose = False)\n",
    "HC_record = HC.best_length_record\n",
    "HC_best_sol = HC.best_route"
   ]
  },
  {
   "cell_type": "code",
   "execution_count": 15,
   "metadata": {},
   "outputs": [],
   "source": [
    "max_iter = 500\n",
    "RW = RandomWalk(distance_matrix, max_iter)\n",
    "RW.solve(verbose = False)\n",
    "RW_record = RW.best_length_record\n",
    "RW_best_sol = RW.best_route"
   ]
  },
  {
   "cell_type": "code",
   "execution_count": 16,
   "metadata": {},
   "outputs": [],
   "source": [
    "max_iter = 500\n",
    "init_temp = 100\n",
    "stop_temp = 1\n",
    "max_patience = 3\n",
    "eplison = 0.025 #Don't decrease to fast\n",
    "SA = SimulatedAnnealing(distance_matrix, max_iter)\n",
    "SA.solve(init_temp, stop_temp, max_iter, max_patience, eplison, verbose = False)\n",
    "SA_record = SA.best_length_record\n",
    "SA_best_sol = SA.best_route"
   ]
  },
  {
   "cell_type": "code",
   "execution_count": 17,
   "metadata": {},
   "outputs": [],
   "source": [
    "pop_size = 25 #From paper\n",
    "max_iter = 20\n",
    "mutation_rate = 0.01 #uniform crossover, prob = 0.01\n",
    "GA = GeneticAlgorithm(distance_matrix, max_iter)\n",
    "GA.solve(pop_size, max_iter, mutation_rate, verbose = False)\n",
    "GA_record = GA.best_length_record\n",
    "GA_best_sol = GA.best_route"
   ]
  },
  {
   "cell_type": "code",
   "execution_count": 18,
   "metadata": {},
   "outputs": [],
   "source": [
    "max_iter = 500\n",
    "max_tabu_list_length = 5\n",
    "TS = TabuSearch(distance_matrix, max_iter)\n",
    "TS.solve(max_tabu_list_length, verbose = False\n",
    ")\n",
    "TS_record = TS.best_length_record\n",
    "TS_best_sol = TS.best_route"
   ]
  },
  {
   "cell_type": "code",
   "execution_count": 19,
   "metadata": {},
   "outputs": [],
   "source": [
    "pop_size = 25 \n",
    "max_iter = 20\n",
    "PSO = ParticalSwarmOptimization(distance_matrix, max_iter)\n",
    "PSO.solve(max_iter, pop_size, verbose = False)\n",
    "PSO_record = PSO.best_length_record\n",
    "PSO_best_sol = PSO.best_route"
   ]
  },
  {
   "cell_type": "code",
   "execution_count": 20,
   "metadata": {},
   "outputs": [],
   "source": [
    "Q = 100 #starting pheromone\n",
    "rho = 0.1 #evaporate rate\n",
    "pop_size = 25\n",
    "alpha = 10\n",
    "beta = 20\n",
    "max_iter = 20\n",
    "ACO = AntColonyOptimization(distance_matrix, max_iter)\n",
    "ACO.solve(max_iter, pop_size, Q, rho , alpha, beta, verbose = False)\n",
    "ACO_record = ACO.best_length_record\n",
    "ACO_best_sol = ACO.best_route"
   ]
  },
  {
   "cell_type": "code",
   "execution_count": 66,
   "metadata": {},
   "outputs": [],
   "source": [
    "max_iter = 500\n",
    "num_nests = 10\n",
    "CS = CuckooSearch(distance_matrix, max_iter)\n",
    "CS.solve(num_nests)\n",
    "CS_record = CS.best_length_record\n",
    "CS_best_sol = CS.best_route"
   ]
  },
  {
   "cell_type": "markdown",
   "metadata": {},
   "source": [
    "# Best solution of each algorithm"
   ]
  },
  {
   "cell_type": "code",
   "execution_count": 70,
   "metadata": {},
   "outputs": [
    {
     "name": "stdout",
     "output_type": "stream",
     "text": [
      "Hill climbing algorithm result:\n",
      "The best route length is 35.964\n",
      "Best route:\n",
      "鑫貿->中貿->馥樺->香城->經貿->港勝->港捷->中研->胡適->港環球->港高鐵->忠陽->聯成->港運->凱松->鵬馳->玉成->向揚->港興->佳樂->港泰->慈愛->重陽->昆陽->雄強->新福玉->港德->港麗->耀港->庄研->華技->研究->聯坊->中坡->玉德->林坊\n",
      "\n",
      "Random walk algorithm result:\n",
      "The best route length is 32.526\n",
      "Best route:\n",
      "庄研->華技->中研->胡適->港環球->港麗->港泰->耀港->研究->經貿->中貿->馥樺->聯成->港德->新福玉->中坡->港運->凱松->昆陽->忠陽->玉成->向揚->重陽->慈愛->港興->港高鐵->佳樂->港勝->鑫貿->港捷->香城->鵬馳->雄強->聯坊->林坊->玉德\n",
      "\n",
      "Simulated annealing algorithm result:\n",
      "The best route length is 27.01\n",
      "Best route:\n",
      "港捷->耀港->華技->庄研->中研->胡適->研究->港勝->馥樺->香城->佳樂->港興->港環球->港高鐵->港麗->聯坊->港德->新福玉->中坡->玉德->林坊->慈愛->重陽->向揚->凱松->港運->昆陽->忠陽->玉成->鵬馳->雄強->聯成->港泰->經貿->中貿->鑫貿\n",
      "\n",
      "Genetic algortihm result:\n",
      "The best route length is 39.164\n",
      "Best route:\n",
      "中貿->港興->慈愛->港麗->聯成->雄強->鵬馳->玉成->忠陽->林坊->新福玉->港運->凱松->聯坊->中坡->玉德->港泰->重陽->向揚->港德->昆陽->佳樂->港高鐵->港環球->經貿->香城->耀港->港勝->港捷->庄研->華技->胡適->中研->鑫貿->馥樺->研究\n",
      "\n",
      "Tabu search result:\n",
      "The best route length is 27.67\n",
      "Best route:\n",
      "港運->耀港->研究->中研->華技->庄研->胡適->港泰->港麗->重陽->忠陽->昆陽->聯成->港德->新福玉->中坡->玉德->林坊->聯坊->雄強->鵬馳->向揚->慈愛->港興->香城->經貿->馥樺->中貿->鑫貿->港捷->港勝->港環球->港高鐵->佳樂->玉成->凱松\n",
      "\n",
      "Particle swarm optimization result:\n",
      "The best route length is 74.35\n",
      "Best route:\n",
      "向揚->港運->中坡->港勝->中貿->忠陽->雄強->港捷->聯成->耀港->庄研->聯坊->玉成->港麗->中研->馥樺->華技->港德->胡適->研究->港泰->港環球->新福玉->凱松->重陽->佳樂->港興->港高鐵->林坊->昆陽->香城->經貿->鑫貿->慈愛->鵬馳->玉德\n",
      "\n",
      "Ant colony optimization result:\n",
      "The best route length is 25.91\n",
      "Best route:\n",
      "港運->凱松->玉德->中坡->新福玉->港德->林坊->聯坊->雄強->昆陽->忠陽->聯成->玉成->鵬馳->重陽->慈愛->港興->佳樂->港高鐵->港環球->港泰->港麗->耀港->研究->胡適->中研->庄研->華技->港勝->港捷->鑫貿->中貿->馥樺->經貿->香城->向揚\n",
      "\n",
      "Cacukoo search result:\n",
      "The best route length is 42.076\n",
      "Best route:\n",
      "港環球->玉德->港運->凱松->向揚->慈愛->玉成->忠陽->昆陽->聯成->港德->中坡->港麗->港興->佳樂->香城->港勝->中研->胡適->耀港->港泰->港高鐵->重陽->中貿->研究->庄研->華技->雄強->新福玉->林坊->聯坊->鵬馳->經貿->馥樺->鑫貿->港捷\n",
      "\n"
     ]
    }
   ],
   "source": [
    "print_solution_route(\"Hill climbing algorithm\", HC_record ,HC_best_sol, store_names)\n",
    "print_solution_route(\"Random walk algorithm\", RW_record, RW_best_sol, store_names)\n",
    "print_solution_route(\"Simulated annealing algorithm\", SA_record, SA_best_sol, store_names)\n",
    "print_solution_route(\"Genetic algortihm\", GA_record, GA_best_sol, store_names)\n",
    "print_solution_route(\"Tabu search\", TS_record,TS_best_sol, store_names)\n",
    "print_solution_route(\"Particle swarm optimization\", PSO_record, PSO_best_sol, store_names)\n",
    "print_solution_route(\"Ant colony optimization\", ACO_record, ACO_best_sol, store_names)\n",
    "print_solution_route(\"Cacukoo search\", CS_record, CS_best_sol, store_names)"
   ]
  },
  {
   "cell_type": "markdown",
   "metadata": {},
   "source": [
    "# FE plot"
   ]
  },
  {
   "cell_type": "code",
   "execution_count": 23,
   "metadata": {},
   "outputs": [],
   "source": [
    "max_iter = 500\n",
    "HC_plt = np.concatenate(\n",
    "    [HC_record, np.repeat(HC_record[-1], max_iter - len(HC_record))]\n",
    ")\n",
    "SA_plt = np.concatenate(\n",
    "    [SA_record, np.repeat(SA_record[-1], max_iter - len(SA_record))]\n",
    ")\n",
    "GA_plt = np.repeat(GA_record, pop_size)\n",
    "PSO_plt = np.repeat(PSO_record, pop_size)\n",
    "ACO_plt = np.repeat(ACO_record, pop_size)"
   ]
  },
  {
   "cell_type": "code",
   "execution_count": 29,
   "metadata": {},
   "outputs": [
    {
     "data": {
      "image/png": "[encoded data removed]",
      "text/plain": [
       "<Figure size 960x800 with 1 Axes>"
      ]
     },
     "metadata": {
      "needs_background": "light"
     },
     "output_type": "display_data"
    }
   ],
   "source": [
    "x = list(range(1, max_iter + 1))\n",
    "plt.figure(figsize=(12, 10), dpi=80)\n",
    "plt.plot(x, HC_plt, label = \"Hill Climbing\")\n",
    "plt.plot(x, RW_record, label = \"Random Walk\")\n",
    "plt.plot(x, TS_record, label = \"Tabu Search\")\n",
    "plt.plot(x, SA_plt, label = \"Simulated Annealing\")\n",
    "plt.plot(x, GA_plt, label = \"Genetic Algorithm\")\n",
    "plt.plot(x, PSO_plt, label = \"Particle Swarm Optimization\")\n",
    "plt.plot(x, ACO_plt, label = \"Ant Conlony Optimization\")\n",
    "plt.plot(x, CS_record, label = \"Cuckoo Search\")\n",
    "plt.xlabel(\"# of iterations\")\n",
    "plt.ylabel(\"Best route length\")\n",
    "plt.legend()\n",
    "plt.savefig(\"FE_plot.png\")\n",
    "plt.show()"
   ]
  }
 ],
 "metadata": {
  "interpreter": {
   "hash": "50bc8ce3d1f752641134e147d4e62e8ba66bb5292f815a5a3dd7adbd21f01ef0"
  },
  "kernelspec": {
   "display_name": "Python 3.6.8 64-bit ('test': conda)",
   "language": "python",
   "name": "python3"
  },
  "language_info": {
   "codemirror_mode": {
    "name": "ipython",
    "version": 3
   },
   "file_extension": ".py",
   "mimetype": "text/x-python",
   "name": "python",
   "nbconvert_exporter": "python",
   "pygments_lexer": "ipython3",
   "version": "3.7.10"
  },
  "orig_nbformat": 4
 },
 "nbformat": 4,
 "nbformat_minor": 2
}
