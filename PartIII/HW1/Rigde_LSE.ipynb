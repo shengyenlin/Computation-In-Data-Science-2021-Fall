{
 "cells": [
  {
   "cell_type": "code",
   "execution_count": 149,
   "metadata": {},
   "outputs": [],
   "source": [
    "import numpy as np\n",
    "import time"
   ]
  },
  {
   "cell_type": "markdown",
   "metadata": {},
   "source": [
    "# Generate fake data"
   ]
  },
  {
   "cell_type": "code",
   "execution_count": 14,
   "metadata": {},
   "outputs": [],
   "source": [
    "def generate_fake_data(n, p):\n",
    "    \"\"\"\n",
    "    n: number of observations\n",
    "    p: number of features\n",
    "    \"\"\"\n",
    "    X = np.random.normal(size = (n, p))\n",
    "    beta = np.ones(p)\n",
    "    eplison = np.random.normal(size=n)\n",
    "    y = np.dot(X, beta) + eplison\n",
    "    return X, y"
   ]
  },
  {
   "cell_type": "code",
   "execution_count": 99,
   "metadata": {},
   "outputs": [],
   "source": [
    "lam = 0.1\n",
    "\n",
    "n = 1100\n",
    "p_10 = 10\n",
    "W_zero_10 = np.zeros(shape = (p_10, p_10))\n",
    "W_I_10 = np.identity(p_10)\n",
    "X_10, y_10 = generate_fake_data(n, p_10)\n",
    "\n",
    "p_1000 = 1000\n",
    "W_zero_1000 = np.zeros(shape = (p_1000, p_1000))\n",
    "W_I_1000 = np.identity(p_1000)\n",
    "X_1000, y_1000 = generate_fake_data(n, p_1000)"
   ]
  },
  {
   "cell_type": "code",
   "execution_count": 102,
   "metadata": {},
   "outputs": [],
   "source": [
    "def turn_to_LSE_form(X, y, W, lam, p):\n",
    "    U = np.concatenate(\n",
    "    [X, -np.sqrt(lam) * W], axis = 0\n",
    "    )\n",
    "\n",
    "    Z = np.concatenate(\n",
    "        [y, np.zeros(p)], axis = 0\n",
    "    )\n",
    "    return U, Z\n",
    "\n",
    "def solve_LSE_by_cholesky(X, y, W, lam, p):\n",
    "    U, Z = turn_to_LSE_form(X, y, W, lam, p)\n",
    "    L = np.linalg.cholesky(\n",
    "        np.dot(U.T, U)\n",
    "    )\n",
    "    theta = np.dot(\n",
    "        np.linalg.inv(L), np.dot(U.T, Z)\n",
    "    )\n",
    "    beta = np.dot(\n",
    "        np.linalg.inv(L.T), theta\n",
    "    )\n",
    "    return beta\n",
    "\n",
    "def solve_LSE_by_QR(X, y, W, lam, p):\n",
    "    U, Z = turn_to_LSE_form(X, y, W, lam, p)\n",
    "    Q, R = np.linalg.qr(U)\n",
    "    beta = np.dot(\n",
    "        np.dot(\n",
    "            np.linalg.inv(R), Q.T\n",
    "        ), Z\n",
    "    )\n",
    "    return beta\n",
    "\n",
    "def solve_LSE_by_SVD(X, y, W, lam, p):\n",
    "    U_data, Z = turn_to_LSE_form(X, y, W, lam, p)\n",
    "    U, D, V_T = np.linalg.svd(U_data, full_matrices=False)\n",
    "    beta = np.dot(\n",
    "        np.dot(\n",
    "            V_T.T, np.linalg.inv(np.diag(D))\n",
    "        ),\n",
    "        np.dot(\n",
    "            U.T, Z\n",
    "        )\n",
    "    )\n",
    "    return beta"
   ]
  },
  {
   "cell_type": "markdown",
   "metadata": {},
   "source": [
    "## Cholesky"
   ]
  },
  {
   "cell_type": "code",
   "execution_count": 154,
   "metadata": {},
   "outputs": [],
   "source": [
    "x = time.time()\n",
    "beta_cholesky = solve_LSE_by_cholesky(X_10, y_10, W_zero_10, lam, p_10)\n",
    "y = time.time()\n",
    "time_elapsed_ch_10_zero = round(y - x, 5)\n",
    "\n",
    "x = time.time()\n",
    "beta_cholesky = solve_LSE_by_cholesky(X_1000, y_1000, W_zero_1000, lam, p_1000)\n",
    "y = time.time()\n",
    "time_elapsed_ch_1000_zero = round(y - x, 5)\n",
    "\n",
    "x = time.time()\n",
    "beta_cholesky = solve_LSE_by_cholesky(X_10, y_10, W_zero_10, lam, p_10)\n",
    "y = time.time()\n",
    "time_elapsed_ch_10_I = round(y - x, 5)\n",
    "\n",
    "x = time.time()\n",
    "beta_cholesky = solve_LSE_by_cholesky(X_1000, y_1000, W_zero_1000, lam, p_1000)\n",
    "y = time.time()\n",
    "time_elapsed_ch_1000_I = round(y - x, 5)"
   ]
  },
  {
   "cell_type": "code",
   "execution_count": 159,
   "metadata": {},
   "outputs": [
    {
     "name": "stdout",
     "output_type": "stream",
     "text": [
      "Chloesky decomposition result:\n",
      "When p = 10, W = zero matrix, running time = 0.00198\n",
      "When p = 1000, W = zero matrix, running time = 0.1696\n",
      "When p = 10, W = identity matrix, running time = 0.0\n",
      "When p = 1000, W = identity matrix, running time = 0.14555\n"
     ]
    }
   ],
   "source": [
    "print(\"Chloesky decomposition result:\")\n",
    "print(\"When p = 10, W = zero matrix, running time = {}\".format(time_elapsed_ch_10_zero))\n",
    "print(\"When p = 1000, W = zero matrix, running time = {}\".format(time_elapsed_ch_1000_zero))\n",
    "print(\"When p = 10, W = identity matrix, running time = {}\".format(time_elapsed_ch_10_I))\n",
    "print(\"When p = 1000, W = identity matrix, running time = {}\".format(time_elapsed_ch_1000_I))"
   ]
  },
  {
   "cell_type": "markdown",
   "metadata": {},
   "source": [
    "## QR"
   ]
  },
  {
   "cell_type": "code",
   "execution_count": 160,
   "metadata": {},
   "outputs": [],
   "source": [
    "x = time.time()\n",
    "beta_QR = solve_LSE_by_QR(X_10, y_10, W_zero_10, lam, p_10)\n",
    "y = time.time()\n",
    "time_elapsed_QR_10_zero = round(y - x, 5)\n",
    "\n",
    "x = time.time()\n",
    "beta_QR = solve_LSE_by_QR(X_1000, y_1000, W_zero_1000, lam, p_1000)\n",
    "y = time.time()\n",
    "time_elapsed_QR_1000_zero = round(y - x, 5)\n",
    "\n",
    "x = time.time()\n",
    "beta_QR = solve_LSE_by_QR(X_10, y_10, W_zero_10, lam, p_10)\n",
    "y = time.time()\n",
    "time_elapsed_QR_10_I = round(y - x, 5)\n",
    "\n",
    "x = time.time()\n",
    "beta_QR = solve_LSE_by_QR(X_1000, y_1000, W_zero_1000, lam, p_1000)\n",
    "y = time.time()\n",
    "time_elapsed_QR_1000_I = round(y - x, 5)"
   ]
  },
  {
   "cell_type": "code",
   "execution_count": 161,
   "metadata": {},
   "outputs": [
    {
     "name": "stdout",
     "output_type": "stream",
     "text": [
      "QR decomposition result:\n",
      "When p = 10, W = zero matrix, running time = 0.00196\n",
      "When p = 1000, W = zero matrix, running time = 0.3097\n",
      "When p = 10, W = identity matrix, running time = 0.001\n",
      "When p = 1000, W = identity matrix, running time = 0.30518\n"
     ]
    }
   ],
   "source": [
    "print(\"QR decomposition result:\")\n",
    "print(\"When p = 10, W = zero matrix, running time = {}\".format(time_elapsed_QR_10_zero))\n",
    "print(\"When p = 1000, W = zero matrix, running time = {}\".format(time_elapsed_QR_1000_zero))\n",
    "print(\"When p = 10, W = identity matrix, running time = {}\".format(time_elapsed_QR_10_I))\n",
    "print(\"When p = 1000, W = identity matrix, running time = {}\".format(time_elapsed_QR_1000_I))"
   ]
  },
  {
   "cell_type": "markdown",
   "metadata": {},
   "source": [
    "## SVD"
   ]
  },
  {
   "cell_type": "code",
   "execution_count": 162,
   "metadata": {},
   "outputs": [],
   "source": [
    "x = time.time()\n",
    "beta_SVD = solve_LSE_by_SVD(X_10, y_10, W_zero_10, lam, p_10)\n",
    "y = time.time()\n",
    "time_elapsed_SVD_10_zero = round(y - x, 5)\n",
    "\n",
    "x = time.time()\n",
    "beta_SVD = solve_LSE_by_SVD(X_1000, y_1000, W_zero_1000, lam, p_1000)\n",
    "y = time.time()\n",
    "time_elapsed_SVD_1000_zero = round(y - x, 5)\n",
    "\n",
    "x = time.time()\n",
    "beta_SVD = solve_LSE_by_SVD(X_10, y_10, W_zero_10, lam, p_10)\n",
    "y = time.time()\n",
    "time_elapsed_SVD_10_I = round(y - x, 5)\n",
    "\n",
    "x = time.time()\n",
    "beta_SVD = solve_LSE_by_SVD(X_1000, y_1000, W_zero_1000, lam, p_1000)\n",
    "y = time.time()\n",
    "time_elapsed_SVD_1000_I = round(y - x, 5)"
   ]
  },
  {
   "cell_type": "code",
   "execution_count": 163,
   "metadata": {},
   "outputs": [
    {
     "name": "stdout",
     "output_type": "stream",
     "text": [
      "SVD decomposition result:\n",
      "When p = 10, W = zero matrix, running time = 0.00096\n",
      "When p = 1000, W = zero matrix, running time = 0.62799\n",
      "When p = 10, W = identity matrix, running time = 0.00099\n",
      "When p = 1000, W = identity matrix, running time = 0.68692\n"
     ]
    }
   ],
   "source": [
    "print(\"SVD decomposition result:\")\n",
    "print(\"When p = 10, W = zero matrix, running time = {}\".format(time_elapsed_SVD_10_zero))\n",
    "print(\"When p = 1000, W = zero matrix, running time = {}\".format(time_elapsed_SVD_1000_zero))\n",
    "print(\"When p = 10, W = identity matrix, running time = {}\".format(time_elapsed_SVD_10_I))\n",
    "print(\"When p = 1000, W = identity matrix, running time = {}\".format(time_elapsed_SVD_1000_I))"
   ]
  }
 ],
 "metadata": {
  "interpreter": {
   "hash": "50bc8ce3d1f752641134e147d4e62e8ba66bb5292f815a5a3dd7adbd21f01ef0"
  },
  "kernelspec": {
   "display_name": "Python 3.6.8 64-bit ('test': conda)",
   "language": "python",
   "name": "python3"
  },
  "language_info": {
   "codemirror_mode": {
    "name": "ipython",
    "version": 3
   },
   "file_extension": ".py",
   "mimetype": "text/x-python",
   "name": "python",
   "nbconvert_exporter": "python",
   "pygments_lexer": "ipython3",
   "version": "3.6.8"
  },
  "orig_nbformat": 4
 },
 "nbformat": 4,
 "nbformat_minor": 2
}
