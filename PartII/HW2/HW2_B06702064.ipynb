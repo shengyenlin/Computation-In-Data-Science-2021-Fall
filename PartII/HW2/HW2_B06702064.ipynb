{
 "cells": [
  {
   "cell_type": "code",
   "execution_count": 1,
   "metadata": {},
   "outputs": [],
   "source": [
    "import pandas as pd\n",
    "import numpy as np\n",
    "import matplotlib.pyplot as plt\n",
    "from sklearn.preprocessing import StandardScaler, RobustScaler, MinMaxScaler\n",
    "from sklearn.model_selection import GridSearchCV, StratifiedKFold\n",
    "from sklearn.feature_selection import f_classif, SelectKBest, f_regression\n",
    "from sklearn.ensemble import RandomForestClassifier\n",
    "from sklearn.neighbors import KNeighborsClassifier\n",
    "from sklearn.linear_model import LogisticRegressionCV, LogisticRegression\n",
    "from sklearn.svm import SVC\n",
    "from sklearn.ensemble import StackingClassifier"
   ]
  },
  {
   "cell_type": "code",
   "execution_count": 2,
   "metadata": {},
   "outputs": [],
   "source": [
    "GDSC_info = pd.read_csv(\"GDSC_PDX_Paclitaxel_info.csv\")\n",
    "GDSC_data = pd.read_csv(\"GDSC_PDX_Paclitaxel.csv\")\n",
    "CCLE_PDX = pd.read_csv(\"CCLE_PDX_Paclitaxel.csv\")"
   ]
  },
  {
   "cell_type": "markdown",
   "metadata": {},
   "source": [
    "# Data cleaning"
   ]
  },
  {
   "cell_type": "code",
   "execution_count": 17,
   "metadata": {},
   "outputs": [
    {
     "name": "stdout",
     "output_type": "stream",
     "text": [
      "Index(['CELL_LINE_NAME', 'MAX_CONC_MICROMOLAR', 'IC50', 'label'], dtype='object')\n",
      "  CELL_LINE_NAME  MAX_CONC_MICROMOLAR      IC50 label\n",
      "0         MC-CAR               0.1024  0.026059     S\n",
      "1            ES3               0.1024  0.823045     R\n",
      "2            ES5               0.1024  1.132950     R\n",
      "3            ES7               0.1024  1.119814     R\n",
      "4          EW-11               0.1024  2.753277     R\n"
     ]
    }
   ],
   "source": [
    "GDSC_info = GDSC_info.iloc[:, 1:]\n",
    "GDSC_info[\"label\"] = GDSC_info[\"IC50\"] < GDSC_info[\"MAX_CONC_MICROMOLAR\"]\n",
    "GDSC_info[\"label\"] = GDSC_info[\"label\"].apply(lambda x: \"S\" if x is True else \"R\")\n",
    "print(GDSC_info.columns)\n",
    "print(GDSC_info.head())"
   ]
  },
  {
   "cell_type": "code",
   "execution_count": 18,
   "metadata": {},
   "outputs": [
    {
     "name": "stdout",
     "output_type": "stream",
     "text": [
      "Index(['CELL_LINE_NAME', 'TSPAN6', 'TNMD', 'DPM1', 'SCYL3', 'C1orf112', 'FGR',\n",
      "       'CFH', 'FUCA2', 'GCLC',\n",
      "       ...\n",
      "       'MRPL46', 'HPR', 'MIA', 'LINC00514', 'OR1D5', 'ZNF234', 'MYH4',\n",
      "       'LINC00526', 'KRT18P55', 'TBC1D3P5'],\n",
      "      dtype='object', length=16191)\n"
     ]
    },
    {
     "data": {
      "text/html": [
       "<div>\n",
       "<style scoped>\n",
       "    .dataframe tbody tr th:only-of-type {\n",
       "        vertical-align: middle;\n",
       "    }\n",
       "\n",
       "    .dataframe tbody tr th {\n",
       "        vertical-align: top;\n",
       "    }\n",
       "\n",
       "    .dataframe thead th {\n",
       "        text-align: right;\n",
       "    }\n",
       "</style>\n",
       "<table border=\"1\" class=\"dataframe\">\n",
       "  <thead>\n",
       "    <tr style=\"text-align: right;\">\n",
       "      <th></th>\n",
       "      <th>CELL_LINE_NAME</th>\n",
       "      <th>TSPAN6</th>\n",
       "      <th>TNMD</th>\n",
       "      <th>DPM1</th>\n",
       "      <th>SCYL3</th>\n",
       "      <th>C1orf112</th>\n",
       "      <th>FGR</th>\n",
       "      <th>CFH</th>\n",
       "      <th>FUCA2</th>\n",
       "      <th>GCLC</th>\n",
       "      <th>...</th>\n",
       "      <th>MRPL46</th>\n",
       "      <th>HPR</th>\n",
       "      <th>MIA</th>\n",
       "      <th>LINC00514</th>\n",
       "      <th>OR1D5</th>\n",
       "      <th>ZNF234</th>\n",
       "      <th>MYH4</th>\n",
       "      <th>LINC00526</th>\n",
       "      <th>KRT18P55</th>\n",
       "      <th>TBC1D3P5</th>\n",
       "    </tr>\n",
       "  </thead>\n",
       "  <tbody>\n",
       "    <tr>\n",
       "      <th>0</th>\n",
       "      <td>MC-CAR</td>\n",
       "      <td>-1.184016</td>\n",
       "      <td>0.468235</td>\n",
       "      <td>0.485299</td>\n",
       "      <td>0.951035</td>\n",
       "      <td>0.705346</td>\n",
       "      <td>3.574280</td>\n",
       "      <td>-0.334766</td>\n",
       "      <td>-0.167187</td>\n",
       "      <td>-0.829344</td>\n",
       "      <td>...</td>\n",
       "      <td>0.639887</td>\n",
       "      <td>0.113480</td>\n",
       "      <td>0.157138</td>\n",
       "      <td>-0.504232</td>\n",
       "      <td>0.283905</td>\n",
       "      <td>-0.785013</td>\n",
       "      <td>0.443411</td>\n",
       "      <td>0.684380</td>\n",
       "      <td>-0.006255</td>\n",
       "      <td>1.037289</td>\n",
       "    </tr>\n",
       "    <tr>\n",
       "      <th>1</th>\n",
       "      <td>SK-ES-1</td>\n",
       "      <td>0.949128</td>\n",
       "      <td>-0.099122</td>\n",
       "      <td>-1.142175</td>\n",
       "      <td>0.221316</td>\n",
       "      <td>0.582377</td>\n",
       "      <td>-0.500133</td>\n",
       "      <td>0.163121</td>\n",
       "      <td>-1.660569</td>\n",
       "      <td>-0.434605</td>\n",
       "      <td>...</td>\n",
       "      <td>-0.518210</td>\n",
       "      <td>-1.023453</td>\n",
       "      <td>-0.407149</td>\n",
       "      <td>-0.924217</td>\n",
       "      <td>-0.198564</td>\n",
       "      <td>-0.366830</td>\n",
       "      <td>-0.151292</td>\n",
       "      <td>0.246662</td>\n",
       "      <td>-0.534830</td>\n",
       "      <td>-0.214098</td>\n",
       "    </tr>\n",
       "    <tr>\n",
       "      <th>2</th>\n",
       "      <td>8-MG-BA</td>\n",
       "      <td>0.788220</td>\n",
       "      <td>0.840168</td>\n",
       "      <td>0.628150</td>\n",
       "      <td>-1.331285</td>\n",
       "      <td>-0.248648</td>\n",
       "      <td>-0.386293</td>\n",
       "      <td>-0.297668</td>\n",
       "      <td>0.815664</td>\n",
       "      <td>-0.212430</td>\n",
       "      <td>...</td>\n",
       "      <td>-1.083025</td>\n",
       "      <td>0.357081</td>\n",
       "      <td>-0.078537</td>\n",
       "      <td>-0.376219</td>\n",
       "      <td>-0.914794</td>\n",
       "      <td>0.283323</td>\n",
       "      <td>-0.551244</td>\n",
       "      <td>-0.333331</td>\n",
       "      <td>0.038996</td>\n",
       "      <td>-0.114577</td>\n",
       "    </tr>\n",
       "    <tr>\n",
       "      <th>3</th>\n",
       "      <td>GB-1</td>\n",
       "      <td>0.053174</td>\n",
       "      <td>-0.648190</td>\n",
       "      <td>-0.181854</td>\n",
       "      <td>-0.633104</td>\n",
       "      <td>-0.947646</td>\n",
       "      <td>-0.469195</td>\n",
       "      <td>-0.684658</td>\n",
       "      <td>0.421926</td>\n",
       "      <td>-0.905626</td>\n",
       "      <td>...</td>\n",
       "      <td>-0.830098</td>\n",
       "      <td>-1.200791</td>\n",
       "      <td>-0.194579</td>\n",
       "      <td>-0.275438</td>\n",
       "      <td>-0.562004</td>\n",
       "      <td>0.634896</td>\n",
       "      <td>-0.366795</td>\n",
       "      <td>0.442662</td>\n",
       "      <td>-1.225924</td>\n",
       "      <td>0.757517</td>\n",
       "    </tr>\n",
       "    <tr>\n",
       "      <th>4</th>\n",
       "      <td>NCI-H1648</td>\n",
       "      <td>1.519261</td>\n",
       "      <td>-0.368292</td>\n",
       "      <td>0.226856</td>\n",
       "      <td>-0.179698</td>\n",
       "      <td>-0.865956</td>\n",
       "      <td>-0.440831</td>\n",
       "      <td>1.035865</td>\n",
       "      <td>0.896539</td>\n",
       "      <td>1.694665</td>\n",
       "      <td>...</td>\n",
       "      <td>0.313644</td>\n",
       "      <td>-0.783564</td>\n",
       "      <td>-0.480206</td>\n",
       "      <td>-0.311198</td>\n",
       "      <td>-0.414697</td>\n",
       "      <td>-0.112886</td>\n",
       "      <td>-0.841901</td>\n",
       "      <td>0.379371</td>\n",
       "      <td>1.731215</td>\n",
       "      <td>-1.545600</td>\n",
       "    </tr>\n",
       "  </tbody>\n",
       "</table>\n",
       "<p>5 rows × 16191 columns</p>\n",
       "</div>"
      ],
      "text/plain": [
       "  CELL_LINE_NAME    TSPAN6      TNMD      DPM1     SCYL3  C1orf112       FGR  \\\n",
       "0         MC-CAR -1.184016  0.468235  0.485299  0.951035  0.705346  3.574280   \n",
       "1        SK-ES-1  0.949128 -0.099122 -1.142175  0.221316  0.582377 -0.500133   \n",
       "2        8-MG-BA  0.788220  0.840168  0.628150 -1.331285 -0.248648 -0.386293   \n",
       "3           GB-1  0.053174 -0.648190 -0.181854 -0.633104 -0.947646 -0.469195   \n",
       "4      NCI-H1648  1.519261 -0.368292  0.226856 -0.179698 -0.865956 -0.440831   \n",
       "\n",
       "        CFH     FUCA2      GCLC  ...    MRPL46       HPR       MIA  LINC00514  \\\n",
       "0 -0.334766 -0.167187 -0.829344  ...  0.639887  0.113480  0.157138  -0.504232   \n",
       "1  0.163121 -1.660569 -0.434605  ... -0.518210 -1.023453 -0.407149  -0.924217   \n",
       "2 -0.297668  0.815664 -0.212430  ... -1.083025  0.357081 -0.078537  -0.376219   \n",
       "3 -0.684658  0.421926 -0.905626  ... -0.830098 -1.200791 -0.194579  -0.275438   \n",
       "4  1.035865  0.896539  1.694665  ...  0.313644 -0.783564 -0.480206  -0.311198   \n",
       "\n",
       "      OR1D5    ZNF234      MYH4  LINC00526  KRT18P55  TBC1D3P5  \n",
       "0  0.283905 -0.785013  0.443411   0.684380 -0.006255  1.037289  \n",
       "1 -0.198564 -0.366830 -0.151292   0.246662 -0.534830 -0.214098  \n",
       "2 -0.914794  0.283323 -0.551244  -0.333331  0.038996 -0.114577  \n",
       "3 -0.562004  0.634896 -0.366795   0.442662 -1.225924  0.757517  \n",
       "4 -0.414697 -0.112886 -0.841901   0.379371  1.731215 -1.545600  \n",
       "\n",
       "[5 rows x 16191 columns]"
      ]
     },
     "execution_count": 18,
     "metadata": {},
     "output_type": "execute_result"
    }
   ],
   "source": [
    "correct_cols = [\"CELL_LINE_NAME\"]\n",
    "correct_cols.extend(GDSC_data.columns[1:])\n",
    "GDSC_data.columns = correct_cols\n",
    "\n",
    "print(GDSC_data.columns)\n",
    "GDSC_data.head()"
   ]
  },
  {
   "cell_type": "code",
   "execution_count": 19,
   "metadata": {},
   "outputs": [],
   "source": [
    "X = pd.merge(GDSC_data, GDSC_info, on = \"CELL_LINE_NAME\")\n",
    "y = X[\"label\"]\n",
    "X = X.drop(columns = ['MAX_CONC_MICROMOLAR', 'IC50', \"CELL_LINE_NAME\", \"label\"])"
   ]
  },
  {
   "cell_type": "markdown",
   "metadata": {},
   "source": [
    "# EDA"
   ]
  },
  {
   "cell_type": "code",
   "execution_count": 21,
   "metadata": {},
   "outputs": [
    {
     "name": "stdout",
     "output_type": "stream",
     "text": [
      "Ratio in each class:\n",
      "S    71.177945\n",
      "R    28.822055\n",
      "Name: label, dtype: float64\n"
     ]
    }
   ],
   "source": [
    "print(\"Ratio in each class:\")\n",
    "ratio = y.value_counts() / len(y) * 100\n",
    "print(ratio)"
   ]
  },
  {
   "cell_type": "code",
   "execution_count": 35,
   "metadata": {},
   "outputs": [
    {
     "data": {
      "text/plain": [
       "[]"
      ]
     },
     "execution_count": 35,
     "metadata": {},
     "output_type": "execute_result"
    },
    {
     "data": {
      "image/png": "[encoded data removed]",
      "text/plain": [
       "<Figure size 432x288 with 1 Axes>"
      ]
     },
     "metadata": {
      "needs_background": "light"
     },
     "output_type": "display_data"
    }
   ],
   "source": [
    "plt.xlabel(\"Label\")\n",
    "plt.ylabel(\"Percentage\")\n",
    "plt.bar(x = ratio.index, height=ratio)\n",
    "plt.plot()"
   ]
  },
  {
   "cell_type": "markdown",
   "metadata": {},
   "source": [
    "# Feature selection\n",
    "- Done before normalization"
   ]
  },
  {
   "cell_type": "markdown",
   "metadata": {},
   "source": [
    "### Logistic regression with L1 regularization"
   ]
  },
  {
   "cell_type": "code",
   "execution_count": 29,
   "metadata": {},
   "outputs": [
    {
     "name": "stderr",
     "output_type": "stream",
     "text": [
      "C:\\Users\\martin\\.conda\\envs\\EEML\\lib\\site-packages\\sklearn\\linear_model\\_sag.py:330: ConvergenceWarning: The max_iter was reached which means the coef_ did not converge\n",
      "  \"the coef_ did not converge\", ConvergenceWarning)\n",
      "C:\\Users\\martin\\.conda\\envs\\EEML\\lib\\site-packages\\sklearn\\linear_model\\_sag.py:330: ConvergenceWarning: The max_iter was reached which means the coef_ did not converge\n",
      "  \"the coef_ did not converge\", ConvergenceWarning)\n",
      "C:\\Users\\martin\\.conda\\envs\\EEML\\lib\\site-packages\\sklearn\\linear_model\\_sag.py:330: ConvergenceWarning: The max_iter was reached which means the coef_ did not converge\n",
      "  \"the coef_ did not converge\", ConvergenceWarning)\n",
      "C:\\Users\\martin\\.conda\\envs\\EEML\\lib\\site-packages\\sklearn\\linear_model\\_sag.py:330: ConvergenceWarning: The max_iter was reached which means the coef_ did not converge\n",
      "  \"the coef_ did not converge\", ConvergenceWarning)\n",
      "C:\\Users\\martin\\.conda\\envs\\EEML\\lib\\site-packages\\sklearn\\linear_model\\_sag.py:330: ConvergenceWarning: The max_iter was reached which means the coef_ did not converge\n",
      "  \"the coef_ did not converge\", ConvergenceWarning)\n",
      "C:\\Users\\martin\\.conda\\envs\\EEML\\lib\\site-packages\\sklearn\\linear_model\\_sag.py:330: ConvergenceWarning: The max_iter was reached which means the coef_ did not converge\n",
      "  \"the coef_ did not converge\", ConvergenceWarning)\n",
      "C:\\Users\\martin\\.conda\\envs\\EEML\\lib\\site-packages\\sklearn\\linear_model\\_sag.py:330: ConvergenceWarning: The max_iter was reached which means the coef_ did not converge\n",
      "  \"the coef_ did not converge\", ConvergenceWarning)\n",
      "C:\\Users\\martin\\.conda\\envs\\EEML\\lib\\site-packages\\sklearn\\linear_model\\_sag.py:330: ConvergenceWarning: The max_iter was reached which means the coef_ did not converge\n",
      "  \"the coef_ did not converge\", ConvergenceWarning)\n",
      "C:\\Users\\martin\\.conda\\envs\\EEML\\lib\\site-packages\\sklearn\\linear_model\\_sag.py:330: ConvergenceWarning: The max_iter was reached which means the coef_ did not converge\n",
      "  \"the coef_ did not converge\", ConvergenceWarning)\n",
      "C:\\Users\\martin\\.conda\\envs\\EEML\\lib\\site-packages\\sklearn\\linear_model\\_sag.py:330: ConvergenceWarning: The max_iter was reached which means the coef_ did not converge\n",
      "  \"the coef_ did not converge\", ConvergenceWarning)\n",
      "C:\\Users\\martin\\.conda\\envs\\EEML\\lib\\site-packages\\sklearn\\linear_model\\_sag.py:330: ConvergenceWarning: The max_iter was reached which means the coef_ did not converge\n",
      "  \"the coef_ did not converge\", ConvergenceWarning)\n",
      "C:\\Users\\martin\\.conda\\envs\\EEML\\lib\\site-packages\\sklearn\\linear_model\\_sag.py:330: ConvergenceWarning: The max_iter was reached which means the coef_ did not converge\n",
      "  \"the coef_ did not converge\", ConvergenceWarning)\n",
      "C:\\Users\\martin\\.conda\\envs\\EEML\\lib\\site-packages\\sklearn\\linear_model\\_sag.py:330: ConvergenceWarning: The max_iter was reached which means the coef_ did not converge\n",
      "  \"the coef_ did not converge\", ConvergenceWarning)\n",
      "C:\\Users\\martin\\.conda\\envs\\EEML\\lib\\site-packages\\sklearn\\linear_model\\_sag.py:330: ConvergenceWarning: The max_iter was reached which means the coef_ did not converge\n",
      "  \"the coef_ did not converge\", ConvergenceWarning)\n",
      "C:\\Users\\martin\\.conda\\envs\\EEML\\lib\\site-packages\\sklearn\\linear_model\\_sag.py:330: ConvergenceWarning: The max_iter was reached which means the coef_ did not converge\n",
      "  \"the coef_ did not converge\", ConvergenceWarning)\n",
      "C:\\Users\\martin\\.conda\\envs\\EEML\\lib\\site-packages\\sklearn\\linear_model\\_sag.py:330: ConvergenceWarning: The max_iter was reached which means the coef_ did not converge\n",
      "  \"the coef_ did not converge\", ConvergenceWarning)\n",
      "C:\\Users\\martin\\.conda\\envs\\EEML\\lib\\site-packages\\sklearn\\linear_model\\_sag.py:330: ConvergenceWarning: The max_iter was reached which means the coef_ did not converge\n",
      "  \"the coef_ did not converge\", ConvergenceWarning)\n",
      "C:\\Users\\martin\\.conda\\envs\\EEML\\lib\\site-packages\\sklearn\\linear_model\\_sag.py:330: ConvergenceWarning: The max_iter was reached which means the coef_ did not converge\n",
      "  \"the coef_ did not converge\", ConvergenceWarning)\n",
      "C:\\Users\\martin\\.conda\\envs\\EEML\\lib\\site-packages\\sklearn\\linear_model\\_sag.py:330: ConvergenceWarning: The max_iter was reached which means the coef_ did not converge\n",
      "  \"the coef_ did not converge\", ConvergenceWarning)\n",
      "C:\\Users\\martin\\.conda\\envs\\EEML\\lib\\site-packages\\sklearn\\linear_model\\_sag.py:330: ConvergenceWarning: The max_iter was reached which means the coef_ did not converge\n",
      "  \"the coef_ did not converge\", ConvergenceWarning)\n",
      "C:\\Users\\martin\\.conda\\envs\\EEML\\lib\\site-packages\\sklearn\\linear_model\\_sag.py:330: ConvergenceWarning: The max_iter was reached which means the coef_ did not converge\n",
      "  \"the coef_ did not converge\", ConvergenceWarning)\n",
      "C:\\Users\\martin\\.conda\\envs\\EEML\\lib\\site-packages\\sklearn\\linear_model\\_sag.py:330: ConvergenceWarning: The max_iter was reached which means the coef_ did not converge\n",
      "  \"the coef_ did not converge\", ConvergenceWarning)\n",
      "C:\\Users\\martin\\.conda\\envs\\EEML\\lib\\site-packages\\sklearn\\linear_model\\_sag.py:330: ConvergenceWarning: The max_iter was reached which means the coef_ did not converge\n",
      "  \"the coef_ did not converge\", ConvergenceWarning)\n",
      "C:\\Users\\martin\\.conda\\envs\\EEML\\lib\\site-packages\\sklearn\\linear_model\\_sag.py:330: ConvergenceWarning: The max_iter was reached which means the coef_ did not converge\n",
      "  \"the coef_ did not converge\", ConvergenceWarning)\n",
      "C:\\Users\\martin\\.conda\\envs\\EEML\\lib\\site-packages\\sklearn\\linear_model\\_sag.py:330: ConvergenceWarning: The max_iter was reached which means the coef_ did not converge\n",
      "  \"the coef_ did not converge\", ConvergenceWarning)\n",
      "C:\\Users\\martin\\.conda\\envs\\EEML\\lib\\site-packages\\sklearn\\linear_model\\_sag.py:330: ConvergenceWarning: The max_iter was reached which means the coef_ did not converge\n",
      "  \"the coef_ did not converge\", ConvergenceWarning)\n",
      "C:\\Users\\martin\\.conda\\envs\\EEML\\lib\\site-packages\\sklearn\\linear_model\\_sag.py:330: ConvergenceWarning: The max_iter was reached which means the coef_ did not converge\n",
      "  \"the coef_ did not converge\", ConvergenceWarning)\n",
      "C:\\Users\\martin\\.conda\\envs\\EEML\\lib\\site-packages\\sklearn\\linear_model\\_sag.py:330: ConvergenceWarning: The max_iter was reached which means the coef_ did not converge\n",
      "  \"the coef_ did not converge\", ConvergenceWarning)\n",
      "C:\\Users\\martin\\.conda\\envs\\EEML\\lib\\site-packages\\sklearn\\linear_model\\_sag.py:330: ConvergenceWarning: The max_iter was reached which means the coef_ did not converge\n",
      "  \"the coef_ did not converge\", ConvergenceWarning)\n",
      "C:\\Users\\martin\\.conda\\envs\\EEML\\lib\\site-packages\\sklearn\\linear_model\\_sag.py:330: ConvergenceWarning: The max_iter was reached which means the coef_ did not converge\n",
      "  \"the coef_ did not converge\", ConvergenceWarning)\n",
      "C:\\Users\\martin\\.conda\\envs\\EEML\\lib\\site-packages\\sklearn\\linear_model\\_sag.py:330: ConvergenceWarning: The max_iter was reached which means the coef_ did not converge\n",
      "  \"the coef_ did not converge\", ConvergenceWarning)\n",
      "C:\\Users\\martin\\.conda\\envs\\EEML\\lib\\site-packages\\sklearn\\linear_model\\_sag.py:330: ConvergenceWarning: The max_iter was reached which means the coef_ did not converge\n",
      "  \"the coef_ did not converge\", ConvergenceWarning)\n",
      "C:\\Users\\martin\\.conda\\envs\\EEML\\lib\\site-packages\\sklearn\\linear_model\\_sag.py:330: ConvergenceWarning: The max_iter was reached which means the coef_ did not converge\n",
      "  \"the coef_ did not converge\", ConvergenceWarning)\n",
      "C:\\Users\\martin\\.conda\\envs\\EEML\\lib\\site-packages\\sklearn\\linear_model\\_sag.py:330: ConvergenceWarning: The max_iter was reached which means the coef_ did not converge\n",
      "  \"the coef_ did not converge\", ConvergenceWarning)\n",
      "C:\\Users\\martin\\.conda\\envs\\EEML\\lib\\site-packages\\sklearn\\linear_model\\_sag.py:330: ConvergenceWarning: The max_iter was reached which means the coef_ did not converge\n",
      "  \"the coef_ did not converge\", ConvergenceWarning)\n"
     ]
    }
   ],
   "source": [
    "clf = LogisticRegressionCV(cv=5, penalty = \"l1\", solver=\"saga\", random_state=5080).fit(X, y)"
   ]
  },
  {
   "cell_type": "code",
   "execution_count": 30,
   "metadata": {},
   "outputs": [
    {
     "name": "stdout",
     "output_type": "stream",
     "text": [
      "Training acc of best model = 78.6967%\n",
      "Cross Validation result in each parameter sets\n"
     ]
    },
    {
     "data": {
      "text/html": [
       "<div>\n",
       "<style scoped>\n",
       "    .dataframe tbody tr th:only-of-type {\n",
       "        vertical-align: middle;\n",
       "    }\n",
       "\n",
       "    .dataframe tbody tr th {\n",
       "        vertical-align: top;\n",
       "    }\n",
       "\n",
       "    .dataframe thead th {\n",
       "        text-align: right;\n",
       "    }\n",
       "</style>\n",
       "<table border=\"1\" class=\"dataframe\">\n",
       "  <thead>\n",
       "    <tr style=\"text-align: right;\">\n",
       "      <th></th>\n",
       "      <th>C</th>\n",
       "      <th>Cross valid acc</th>\n",
       "    </tr>\n",
       "  </thead>\n",
       "  <tbody>\n",
       "    <tr>\n",
       "      <th>0</th>\n",
       "      <td>0.000100</td>\n",
       "      <td>0.711772</td>\n",
       "    </tr>\n",
       "    <tr>\n",
       "      <th>1</th>\n",
       "      <td>0.000774</td>\n",
       "      <td>0.711772</td>\n",
       "    </tr>\n",
       "    <tr>\n",
       "      <th>2</th>\n",
       "      <td>0.005995</td>\n",
       "      <td>0.711772</td>\n",
       "    </tr>\n",
       "    <tr>\n",
       "      <th>3</th>\n",
       "      <td>0.046416</td>\n",
       "      <td>0.726867</td>\n",
       "    </tr>\n",
       "    <tr>\n",
       "      <th>4</th>\n",
       "      <td>0.359381</td>\n",
       "      <td>0.523924</td>\n",
       "    </tr>\n",
       "    <tr>\n",
       "      <th>5</th>\n",
       "      <td>2.782559</td>\n",
       "      <td>0.458639</td>\n",
       "    </tr>\n",
       "    <tr>\n",
       "      <th>6</th>\n",
       "      <td>21.544347</td>\n",
       "      <td>0.418544</td>\n",
       "    </tr>\n",
       "    <tr>\n",
       "      <th>7</th>\n",
       "      <td>166.810054</td>\n",
       "      <td>0.413544</td>\n",
       "    </tr>\n",
       "    <tr>\n",
       "      <th>8</th>\n",
       "      <td>1291.549665</td>\n",
       "      <td>0.401013</td>\n",
       "    </tr>\n",
       "    <tr>\n",
       "      <th>9</th>\n",
       "      <td>10000.000000</td>\n",
       "      <td>0.383354</td>\n",
       "    </tr>\n",
       "  </tbody>\n",
       "</table>\n",
       "</div>"
      ],
      "text/plain": [
       "              C  Cross valid acc\n",
       "0      0.000100         0.711772\n",
       "1      0.000774         0.711772\n",
       "2      0.005995         0.711772\n",
       "3      0.046416         0.726867\n",
       "4      0.359381         0.523924\n",
       "5      2.782559         0.458639\n",
       "6     21.544347         0.418544\n",
       "7    166.810054         0.413544\n",
       "8   1291.549665         0.401013\n",
       "9  10000.000000         0.383354"
      ]
     },
     "execution_count": 30,
     "metadata": {},
     "output_type": "execute_result"
    }
   ],
   "source": [
    "acc = clf.score(X, y)\n",
    "print(f\"Training acc of best model = {round(acc * 100, 4)}%\")\n",
    "print(\"Cross Validation result in each parameter sets\")\n",
    "pd.DataFrame({\"C\":clf.Cs_, \"Cross valid acc\": clf.scores_[\"S\"].mean(axis = 0)})"
   ]
  },
  {
   "cell_type": "code",
   "execution_count": 31,
   "metadata": {},
   "outputs": [
    {
     "name": "stdout",
     "output_type": "stream",
     "text": [
      "There are 23 features selected by L1 logistic regression\n",
      "['ANKFY1', 'C2orf68', 'CEP128', 'CHST2', 'GABPA', 'GYS2', 'HDAC1', 'ITGA4', 'JARID2', 'MDM1', 'OLFML2A', 'PPP3CB', 'PRIM2', 'PRPF4B', 'PTGES3', 'RAP2B', 'SMC6', 'TIMELESS', 'TRDMT1', 'TRIM25', 'TSLP', 'UBE2G1', 'ZNF318']\n"
     ]
    }
   ],
   "source": [
    "logistic_regression_coefs = X.columns[(clf.coef_ > 0).flatten()]\n",
    "print(f\"There are {len(logistic_regression_coefs)} features selected by L1 logistic regression\")\n",
    "print(sorted(logistic_regression_coefs.tolist()))"
   ]
  },
  {
   "cell_type": "markdown",
   "metadata": {},
   "source": [
    "## Anova F-test"
   ]
  },
  {
   "cell_type": "code",
   "execution_count": 6,
   "metadata": {},
   "outputs": [
    {
     "data": {
      "text/plain": [
       "SelectKBest(k=20, score_func=<function f_classif at 0x0000024B9FCCE948>)"
      ]
     },
     "execution_count": 6,
     "metadata": {},
     "output_type": "execute_result"
    }
   ],
   "source": [
    "anova_selector = SelectKBest(score_func=f_classif, k=20)\n",
    "anova_selector.fit(X, y)"
   ]
  },
  {
   "cell_type": "code",
   "execution_count": 33,
   "metadata": {},
   "outputs": [
    {
     "name": "stdout",
     "output_type": "stream",
     "text": [
      "Top 20 selected by anova classification are\n",
      "['ABCB1', 'DOK4', 'SEZ6L2', 'PRPF4B', 'TBX3', 'RGS5', 'GPR22', 'COLEC11', 'SLC6A2', 'TFAP2B', 'ASTN2', 'C1QL4', 'PRIM2', 'PCSK1N', 'TRIM67', 'PNMA3', 'PODXL2', 'PHYHIPL', 'CRH', 'TMEM59L']\n"
     ]
    },
    {
     "data": {
      "text/html": [
       "<div>\n",
       "<style scoped>\n",
       "    .dataframe tbody tr th:only-of-type {\n",
       "        vertical-align: middle;\n",
       "    }\n",
       "\n",
       "    .dataframe tbody tr th {\n",
       "        vertical-align: top;\n",
       "    }\n",
       "\n",
       "    .dataframe thead th {\n",
       "        text-align: right;\n",
       "    }\n",
       "</style>\n",
       "<table border=\"1\" class=\"dataframe\">\n",
       "  <thead>\n",
       "    <tr style=\"text-align: right;\">\n",
       "      <th></th>\n",
       "      <th>feature_names</th>\n",
       "      <th>scores</th>\n",
       "    </tr>\n",
       "  </thead>\n",
       "  <tbody>\n",
       "    <tr>\n",
       "      <th>1553</th>\n",
       "      <td>ABCB1</td>\n",
       "      <td>37.850472</td>\n",
       "    </tr>\n",
       "    <tr>\n",
       "      <th>5147</th>\n",
       "      <td>DOK4</td>\n",
       "      <td>23.204110</td>\n",
       "    </tr>\n",
       "    <tr>\n",
       "      <th>12252</th>\n",
       "      <td>SEZ6L2</td>\n",
       "      <td>23.195214</td>\n",
       "    </tr>\n",
       "    <tr>\n",
       "      <th>3774</th>\n",
       "      <td>PRPF4B</td>\n",
       "      <td>22.099737</td>\n",
       "    </tr>\n",
       "    <tr>\n",
       "      <th>6376</th>\n",
       "      <td>TBX3</td>\n",
       "      <td>21.863028</td>\n",
       "    </tr>\n",
       "    <tr>\n",
       "      <th>7574</th>\n",
       "      <td>RGS5</td>\n",
       "      <td>20.846973</td>\n",
       "    </tr>\n",
       "    <tr>\n",
       "      <th>11811</th>\n",
       "      <td>GPR22</td>\n",
       "      <td>20.594927</td>\n",
       "    </tr>\n",
       "    <tr>\n",
       "      <th>4401</th>\n",
       "      <td>COLEC11</td>\n",
       "      <td>20.117862</td>\n",
       "    </tr>\n",
       "    <tr>\n",
       "      <th>2612</th>\n",
       "      <td>SLC6A2</td>\n",
       "      <td>20.116971</td>\n",
       "    </tr>\n",
       "    <tr>\n",
       "      <th>194</th>\n",
       "      <td>TFAP2B</td>\n",
       "      <td>19.249741</td>\n",
       "    </tr>\n",
       "    <tr>\n",
       "      <th>8208</th>\n",
       "      <td>ASTN2</td>\n",
       "      <td>19.004395</td>\n",
       "    </tr>\n",
       "    <tr>\n",
       "      <th>14055</th>\n",
       "      <td>C1QL4</td>\n",
       "      <td>18.527481</td>\n",
       "    </tr>\n",
       "    <tr>\n",
       "      <th>7984</th>\n",
       "      <td>PRIM2</td>\n",
       "      <td>18.312901</td>\n",
       "    </tr>\n",
       "    <tr>\n",
       "      <th>2428</th>\n",
       "      <td>PCSK1N</td>\n",
       "      <td>18.078306</td>\n",
       "    </tr>\n",
       "    <tr>\n",
       "      <th>4501</th>\n",
       "      <td>TRIM67</td>\n",
       "      <td>17.913963</td>\n",
       "    </tr>\n",
       "    <tr>\n",
       "      <th>13517</th>\n",
       "      <td>PNMA3</td>\n",
       "      <td>17.813227</td>\n",
       "    </tr>\n",
       "    <tr>\n",
       "      <th>3966</th>\n",
       "      <td>PODXL2</td>\n",
       "      <td>17.738886</td>\n",
       "    </tr>\n",
       "    <tr>\n",
       "      <th>10403</th>\n",
       "      <td>PHYHIPL</td>\n",
       "      <td>17.732888</td>\n",
       "    </tr>\n",
       "    <tr>\n",
       "      <th>8145</th>\n",
       "      <td>CRH</td>\n",
       "      <td>17.724781</td>\n",
       "    </tr>\n",
       "    <tr>\n",
       "      <th>2924</th>\n",
       "      <td>TMEM59L</td>\n",
       "      <td>17.489335</td>\n",
       "    </tr>\n",
       "  </tbody>\n",
       "</table>\n",
       "</div>"
      ],
      "text/plain": [
       "      feature_names     scores\n",
       "1553          ABCB1  37.850472\n",
       "5147           DOK4  23.204110\n",
       "12252        SEZ6L2  23.195214\n",
       "3774         PRPF4B  22.099737\n",
       "6376           TBX3  21.863028\n",
       "7574           RGS5  20.846973\n",
       "11811         GPR22  20.594927\n",
       "4401        COLEC11  20.117862\n",
       "2612         SLC6A2  20.116971\n",
       "194          TFAP2B  19.249741\n",
       "8208          ASTN2  19.004395\n",
       "14055         C1QL4  18.527481\n",
       "7984          PRIM2  18.312901\n",
       "2428         PCSK1N  18.078306\n",
       "4501         TRIM67  17.913963\n",
       "13517         PNMA3  17.813227\n",
       "3966         PODXL2  17.738886\n",
       "10403       PHYHIPL  17.732888\n",
       "8145            CRH  17.724781\n",
       "2924        TMEM59L  17.489335"
      ]
     },
     "execution_count": 33,
     "metadata": {},
     "output_type": "execute_result"
    }
   ],
   "source": [
    "num_selected_features = 20\n",
    "anova_df = pd.DataFrame({\"feature_names\":X.columns, \"scores\":anova_selector.scores_})\n",
    "anova_df = anova_df.sort_values(by = [\"scores\"], ascending=False)\n",
    "print(f\"Top {num_selected_features} selected by anova classification are\")\n",
    "print(anova_df[:num_selected_features][\"feature_names\"].tolist())\n",
    "anova_df[:num_selected_features]"
   ]
  },
  {
   "cell_type": "code",
   "execution_count": 8,
   "metadata": {},
   "outputs": [
    {
     "data": {
      "text/html": [
       "<div>\n",
       "<style scoped>\n",
       "    .dataframe tbody tr th:only-of-type {\n",
       "        vertical-align: middle;\n",
       "    }\n",
       "\n",
       "    .dataframe tbody tr th {\n",
       "        vertical-align: top;\n",
       "    }\n",
       "\n",
       "    .dataframe thead th {\n",
       "        text-align: right;\n",
       "    }\n",
       "</style>\n",
       "<table border=\"1\" class=\"dataframe\">\n",
       "  <thead>\n",
       "    <tr style=\"text-align: right;\">\n",
       "      <th></th>\n",
       "      <th>feature_names</th>\n",
       "      <th>scores</th>\n",
       "    </tr>\n",
       "  </thead>\n",
       "  <tbody>\n",
       "    <tr>\n",
       "      <th>3774</th>\n",
       "      <td>PRPF4B</td>\n",
       "      <td>22.099737</td>\n",
       "    </tr>\n",
       "    <tr>\n",
       "      <th>7984</th>\n",
       "      <td>PRIM2</td>\n",
       "      <td>18.312901</td>\n",
       "    </tr>\n",
       "    <tr>\n",
       "      <th>4040</th>\n",
       "      <td>ITGA4</td>\n",
       "      <td>17.312658</td>\n",
       "    </tr>\n",
       "    <tr>\n",
       "      <th>8855</th>\n",
       "      <td>GABPA</td>\n",
       "      <td>15.678169</td>\n",
       "    </tr>\n",
       "    <tr>\n",
       "      <th>13135</th>\n",
       "      <td>RAP2B</td>\n",
       "      <td>15.423869</td>\n",
       "    </tr>\n",
       "    <tr>\n",
       "      <th>4219</th>\n",
       "      <td>HDAC1</td>\n",
       "      <td>15.373306</td>\n",
       "    </tr>\n",
       "    <tr>\n",
       "      <th>4723</th>\n",
       "      <td>TRIM25</td>\n",
       "      <td>14.618876</td>\n",
       "    </tr>\n",
       "    <tr>\n",
       "      <th>3166</th>\n",
       "      <td>TRDMT1</td>\n",
       "      <td>13.018185</td>\n",
       "    </tr>\n",
       "    <tr>\n",
       "      <th>2186</th>\n",
       "      <td>CEP128</td>\n",
       "      <td>12.860668</td>\n",
       "    </tr>\n",
       "    <tr>\n",
       "      <th>189</th>\n",
       "      <td>JARID2</td>\n",
       "      <td>12.538622</td>\n",
       "    </tr>\n",
       "    <tr>\n",
       "      <th>13835</th>\n",
       "      <td>ANKFY1</td>\n",
       "      <td>12.286422</td>\n",
       "    </tr>\n",
       "    <tr>\n",
       "      <th>7926</th>\n",
       "      <td>TSLP</td>\n",
       "      <td>12.242566</td>\n",
       "    </tr>\n",
       "    <tr>\n",
       "      <th>3602</th>\n",
       "      <td>MDM1</td>\n",
       "      <td>12.180220</td>\n",
       "    </tr>\n",
       "    <tr>\n",
       "      <th>6000</th>\n",
       "      <td>UBE2G1</td>\n",
       "      <td>11.379896</td>\n",
       "    </tr>\n",
       "    <tr>\n",
       "      <th>11660</th>\n",
       "      <td>ZNF318</td>\n",
       "      <td>11.304879</td>\n",
       "    </tr>\n",
       "    <tr>\n",
       "      <th>13806</th>\n",
       "      <td>OLFML2A</td>\n",
       "      <td>10.951475</td>\n",
       "    </tr>\n",
       "    <tr>\n",
       "      <th>11150</th>\n",
       "      <td>C2orf68</td>\n",
       "      <td>10.103626</td>\n",
       "    </tr>\n",
       "    <tr>\n",
       "      <th>12274</th>\n",
       "      <td>CHST2</td>\n",
       "      <td>10.022067</td>\n",
       "    </tr>\n",
       "    <tr>\n",
       "      <th>3605</th>\n",
       "      <td>TIMELESS</td>\n",
       "      <td>9.634190</td>\n",
       "    </tr>\n",
       "    <tr>\n",
       "      <th>9797</th>\n",
       "      <td>SMC6</td>\n",
       "      <td>9.011595</td>\n",
       "    </tr>\n",
       "    <tr>\n",
       "      <th>3538</th>\n",
       "      <td>PTGES3</td>\n",
       "      <td>8.720363</td>\n",
       "    </tr>\n",
       "    <tr>\n",
       "      <th>3180</th>\n",
       "      <td>PPP3CB</td>\n",
       "      <td>8.462946</td>\n",
       "    </tr>\n",
       "    <tr>\n",
       "      <th>3630</th>\n",
       "      <td>GYS2</td>\n",
       "      <td>7.599290</td>\n",
       "    </tr>\n",
       "  </tbody>\n",
       "</table>\n",
       "</div>"
      ],
      "text/plain": [
       "      feature_names     scores\n",
       "3774         PRPF4B  22.099737\n",
       "7984          PRIM2  18.312901\n",
       "4040          ITGA4  17.312658\n",
       "8855          GABPA  15.678169\n",
       "13135         RAP2B  15.423869\n",
       "4219          HDAC1  15.373306\n",
       "4723         TRIM25  14.618876\n",
       "3166         TRDMT1  13.018185\n",
       "2186         CEP128  12.860668\n",
       "189          JARID2  12.538622\n",
       "13835        ANKFY1  12.286422\n",
       "7926           TSLP  12.242566\n",
       "3602           MDM1  12.180220\n",
       "6000         UBE2G1  11.379896\n",
       "11660        ZNF318  11.304879\n",
       "13806       OLFML2A  10.951475\n",
       "11150       C2orf68  10.103626\n",
       "12274         CHST2  10.022067\n",
       "3605       TIMELESS   9.634190\n",
       "9797           SMC6   9.011595\n",
       "3538         PTGES3   8.720363\n",
       "3180         PPP3CB   8.462946\n",
       "3630           GYS2   7.599290"
      ]
     },
     "execution_count": 8,
     "metadata": {},
     "output_type": "execute_result"
    }
   ],
   "source": [
    "cols = ['ANKFY1', 'C2orf68', 'CEP128', 'CHST2', 'GABPA', 'GYS2', 'HDAC1', 'ITGA4', 'JARID2', 'MDM1', 'OLFML2A', 'PPP3CB', 'PRIM2', 'PRPF4B', 'PTGES3', 'RAP2B', 'SMC6', 'TIMELESS', 'TRDMT1', 'TRIM25', 'TSLP', 'UBE2G1', 'ZNF318']\n",
    "anova_df[anova_df[\"feature_names\"].isin(cols)]"
   ]
  },
  {
   "cell_type": "markdown",
   "metadata": {},
   "source": [
    "## Random Forest"
   ]
  },
  {
   "cell_type": "code",
   "execution_count": 93,
   "metadata": {},
   "outputs": [
    {
     "name": "stdout",
     "output_type": "stream",
     "text": [
      "{'n_estimators': [100, 137, 175, 212, 250], 'max_depth': [5, 6, 7, 8, 9, 10], 'min_samples_split': [2, 5], 'min_samples_leaf': [1, 2, 4], 'oob_score': [True]}\n"
     ]
    }
   ],
   "source": [
    "# Number of trees in random forest\n",
    "n_estimators = [int(x) for x in np.linspace(start = 100, stop = 250, num = 5)]\n",
    "# Maximum number of levels in tree\n",
    "max_depth = [int(x) for x in np.linspace(5, 10, num = 6)]\n",
    "# Minimum number of samples required to split a node\n",
    "min_samples_split = [2, 5]\n",
    "# Minimum number of samples required at each leaf node\n",
    "min_samples_leaf = [1, 2, 4]\n",
    "params_grid = {'n_estimators': n_estimators,\n",
    "               'max_depth': max_depth,\n",
    "               'min_samples_split': min_samples_split,\n",
    "               'min_samples_leaf': min_samples_leaf,\n",
    "               'oob_score': [True]}\n",
    "print(params_grid)"
   ]
  },
  {
   "cell_type": "code",
   "execution_count": 94,
   "metadata": {},
   "outputs": [
    {
     "name": "stdout",
     "output_type": "stream",
     "text": [
      "Fitting 5 folds for each of 180 candidates, totalling 900 fits\n",
      "[CV] max_depth=5, min_samples_leaf=1, min_samples_split=2, n_estimators=100, oob_score=True \n"
     ]
    },
    {
     "name": "stderr",
     "output_type": "stream",
     "text": [
      "[Parallel(n_jobs=1)]: Using backend SequentialBackend with 1 concurrent workers.\n"
     ]
    },
    {
     "name": "stdout",
     "output_type": "stream",
     "text": [
      "[CV]  max_depth=5, min_samples_leaf=1, min_samples_split=2, n_estimators=100, oob_score=True, total=   2.1s\n",
      "[CV] max_depth=5, min_samples_leaf=1, min_samples_split=2, n_estimators=100, oob_score=True \n"
     ]
    },
    {
     "name": "stderr",
     "output_type": "stream",
     "text": [
      "[Parallel(n_jobs=1)]: Done   1 out of   1 | elapsed:    2.0s remaining:    0.0s\n"
     ]
    },
    {
     "name": "stdout",
     "output_type": "stream",
     "text": [
      "[CV]  max_depth=5, min_samples_leaf=1, min_samples_split=2, n_estimators=100, oob_score=True, total=   2.2s\n",
      "[CV] max_depth=5, min_samples_leaf=1, min_samples_split=2, n_estimators=100, oob_score=True \n",
      "[CV]  max_depth=5, min_samples_leaf=1, min_samples_split=2, n_estimators=100, oob_score=True, total=   2.1s\n",
      "[CV] max_depth=5, min_samples_leaf=1, min_samples_split=2, n_estimators=100, oob_score=True \n",
      "[CV]  max_depth=5, min_samples_leaf=1, min_samples_split=2, n_estimators=100, oob_score=True, total=   2.2s\n",
      "[CV] max_depth=5, min_samples_leaf=1, min_samples_split=2, n_estimators=100, oob_score=True \n",
      "[CV]  max_depth=5, min_samples_leaf=1, min_samples_split=2, n_estimators=100, oob_score=True, total=   2.5s\n",
      "[CV] max_depth=5, min_samples_leaf=1, min_samples_split=2, n_estimators=137, oob_score=True \n",
      "[CV]  max_depth=5, min_samples_leaf=1, min_samples_split=2, n_estimators=137, oob_score=True, total=   3.1s\n",
      "[CV] max_depth=5, min_samples_leaf=1, min_samples_split=2, n_estimators=137, oob_score=True \n",
      "[CV]  max_depth=5, min_samples_leaf=1, min_samples_split=2, n_estimators=137, oob_score=True, total=   3.2s\n",
      "[CV] max_depth=5, min_samples_leaf=1, min_samples_split=2, n_estimators=137, oob_score=True \n",
      "[CV]  max_depth=5, min_samples_leaf=1, min_samples_split=2, n_estimators=137, oob_score=True, total=   2.9s\n",
      "[CV] max_depth=5, min_samples_leaf=1, min_samples_split=2, n_estimators=137, oob_score=True \n",
      "[CV]  max_depth=5, min_samples_leaf=1, min_samples_split=2, n_estimators=137, oob_score=True, total=   5.6s\n",
      "[CV] max_depth=5, min_samples_leaf=1, min_samples_split=2, n_estimators=137, oob_score=True \n",
      "[CV]  max_depth=5, min_samples_leaf=1, min_samples_split=2, n_estimators=137, oob_score=True, total=   6.4s\n",
      "[CV] max_depth=5, min_samples_leaf=1, min_samples_split=2, n_estimators=175, oob_score=True \n",
      "[CV]  max_depth=5, min_samples_leaf=1, min_samples_split=2, n_estimators=175, oob_score=True, total=   5.4s\n",
      "[CV] max_depth=5, min_samples_leaf=1, min_samples_split=2, n_estimators=175, oob_score=True \n",
      "[CV]  max_depth=5, min_samples_leaf=1, min_samples_split=2, n_estimators=175, oob_score=True, total=   5.8s\n",
      "[CV] max_depth=5, min_samples_leaf=1, min_samples_split=2, n_estimators=175, oob_score=True \n",
      "[CV]  max_depth=5, min_samples_leaf=1, min_samples_split=2, n_estimators=175, oob_score=True, total=   5.5s\n",
      "[CV] max_depth=5, min_samples_leaf=1, min_samples_split=2, n_estimators=175, oob_score=True \n",
      "[CV]  max_depth=5, min_samples_leaf=1, min_samples_split=2, n_estimators=175, oob_score=True, total=   4.4s\n",
      "[CV] max_depth=5, min_samples_leaf=1, min_samples_split=2, n_estimators=175, oob_score=True \n",
      "[CV]  max_depth=5, min_samples_leaf=1, min_samples_split=2, n_estimators=175, oob_score=True, total=   5.8s\n",
      "[CV] max_depth=5, min_samples_leaf=1, min_samples_split=2, n_estimators=212, oob_score=True \n",
      "[CV]  max_depth=5, min_samples_leaf=1, min_samples_split=2, n_estimators=212, oob_score=True, total=  10.7s\n",
      "[CV] max_depth=5, min_samples_leaf=1, min_samples_split=2, n_estimators=212, oob_score=True \n",
      "[CV]  max_depth=5, min_samples_leaf=1, min_samples_split=2, n_estimators=212, oob_score=True, total=   8.7s\n",
      "[CV] max_depth=5, min_samples_leaf=1, min_samples_split=2, n_estimators=212, oob_score=True \n",
      "[CV]  max_depth=5, min_samples_leaf=1, min_samples_split=2, n_estimators=212, oob_score=True, total=   9.3s\n",
      "[CV] max_depth=5, min_samples_leaf=1, min_samples_split=2, n_estimators=212, oob_score=True \n",
      "[CV]  max_depth=5, min_samples_leaf=1, min_samples_split=2, n_estimators=212, oob_score=True, total=   5.7s\n",
      "[CV] max_depth=5, min_samples_leaf=1, min_samples_split=2, n_estimators=212, oob_score=True \n",
      "[CV]  max_depth=5, min_samples_leaf=1, min_samples_split=2, n_estimators=212, oob_score=True, total=   5.0s\n",
      "[CV] max_depth=5, min_samples_leaf=1, min_samples_split=2, n_estimators=250, oob_score=True \n",
      "[CV]  max_depth=5, min_samples_leaf=1, min_samples_split=2, n_estimators=250, oob_score=True, total=  12.8s\n",
      "[CV] max_depth=5, min_samples_leaf=1, min_samples_split=2, n_estimators=250, oob_score=True \n",
      "[CV]  max_depth=5, min_samples_leaf=1, min_samples_split=2, n_estimators=250, oob_score=True, total=  13.3s\n",
      "[CV] max_depth=5, min_samples_leaf=1, min_samples_split=2, n_estimators=250, oob_score=True \n",
      "[CV]  max_depth=5, min_samples_leaf=1, min_samples_split=2, n_estimators=250, oob_score=True, total=   9.8s\n",
      "[CV] max_depth=5, min_samples_leaf=1, min_samples_split=2, n_estimators=250, oob_score=True \n",
      "[CV]  max_depth=5, min_samples_leaf=1, min_samples_split=2, n_estimators=250, oob_score=True, total=   9.0s\n",
      "[CV] max_depth=5, min_samples_leaf=1, min_samples_split=2, n_estimators=250, oob_score=True \n",
      "[CV]  max_depth=5, min_samples_leaf=1, min_samples_split=2, n_estimators=250, oob_score=True, total=  10.4s\n",
      "[CV] max_depth=5, min_samples_leaf=1, min_samples_split=5, n_estimators=100, oob_score=True \n",
      "[CV]  max_depth=5, min_samples_leaf=1, min_samples_split=5, n_estimators=100, oob_score=True, total=   3.2s\n",
      "[CV] max_depth=5, min_samples_leaf=1, min_samples_split=5, n_estimators=100, oob_score=True \n",
      "[CV]  max_depth=5, min_samples_leaf=1, min_samples_split=5, n_estimators=100, oob_score=True, total=   4.2s\n",
      "[CV] max_depth=5, min_samples_leaf=1, min_samples_split=5, n_estimators=100, oob_score=True \n",
      "[CV]  max_depth=5, min_samples_leaf=1, min_samples_split=5, n_estimators=100, oob_score=True, total=   3.8s\n",
      "[CV] max_depth=5, min_samples_leaf=1, min_samples_split=5, n_estimators=100, oob_score=True \n",
      "[CV]  max_depth=5, min_samples_leaf=1, min_samples_split=5, n_estimators=100, oob_score=True, total=   4.2s\n",
      "[CV] max_depth=5, min_samples_leaf=1, min_samples_split=5, n_estimators=100, oob_score=True \n",
      "[CV]  max_depth=5, min_samples_leaf=1, min_samples_split=5, n_estimators=100, oob_score=True, total=   3.8s\n",
      "[CV] max_depth=5, min_samples_leaf=1, min_samples_split=5, n_estimators=137, oob_score=True \n",
      "[CV]  max_depth=5, min_samples_leaf=1, min_samples_split=5, n_estimators=137, oob_score=True, total=   4.3s\n",
      "[CV] max_depth=5, min_samples_leaf=1, min_samples_split=5, n_estimators=137, oob_score=True \n",
      "[CV]  max_depth=5, min_samples_leaf=1, min_samples_split=5, n_estimators=137, oob_score=True, total=   4.3s\n",
      "[CV] max_depth=5, min_samples_leaf=1, min_samples_split=5, n_estimators=137, oob_score=True \n",
      "[CV]  max_depth=5, min_samples_leaf=1, min_samples_split=5, n_estimators=137, oob_score=True, total=   4.5s\n",
      "[CV] max_depth=5, min_samples_leaf=1, min_samples_split=5, n_estimators=137, oob_score=True \n",
      "[CV]  max_depth=5, min_samples_leaf=1, min_samples_split=5, n_estimators=137, oob_score=True, total=  10.4s\n",
      "[CV] max_depth=5, min_samples_leaf=1, min_samples_split=5, n_estimators=137, oob_score=True \n",
      "[CV]  max_depth=5, min_samples_leaf=1, min_samples_split=5, n_estimators=137, oob_score=True, total=   6.9s\n",
      "[CV] max_depth=5, min_samples_leaf=1, min_samples_split=5, n_estimators=175, oob_score=True \n",
      "[CV]  max_depth=5, min_samples_leaf=1, min_samples_split=5, n_estimators=175, oob_score=True, total=   6.8s\n",
      "[CV] max_depth=5, min_samples_leaf=1, min_samples_split=5, n_estimators=175, oob_score=True \n",
      "[CV]  max_depth=5, min_samples_leaf=1, min_samples_split=5, n_estimators=175, oob_score=True, total=   5.8s\n",
      "[CV] max_depth=5, min_samples_leaf=1, min_samples_split=5, n_estimators=175, oob_score=True \n",
      "[CV]  max_depth=5, min_samples_leaf=1, min_samples_split=5, n_estimators=175, oob_score=True, total=   5.6s\n",
      "[CV] max_depth=5, min_samples_leaf=1, min_samples_split=5, n_estimators=175, oob_score=True \n",
      "[CV]  max_depth=5, min_samples_leaf=1, min_samples_split=5, n_estimators=175, oob_score=True, total=   4.4s\n",
      "[CV] max_depth=5, min_samples_leaf=1, min_samples_split=5, n_estimators=175, oob_score=True \n",
      "[CV]  max_depth=5, min_samples_leaf=1, min_samples_split=5, n_estimators=175, oob_score=True, total=   4.8s\n",
      "[CV] max_depth=5, min_samples_leaf=1, min_samples_split=5, n_estimators=212, oob_score=True \n",
      "[CV]  max_depth=5, min_samples_leaf=1, min_samples_split=5, n_estimators=212, oob_score=True, total=   5.8s\n",
      "[CV] max_depth=5, min_samples_leaf=1, min_samples_split=5, n_estimators=212, oob_score=True \n",
      "[CV]  max_depth=5, min_samples_leaf=1, min_samples_split=5, n_estimators=212, oob_score=True, total=   5.0s\n",
      "[CV] max_depth=5, min_samples_leaf=1, min_samples_split=5, n_estimators=212, oob_score=True \n",
      "[CV]  max_depth=5, min_samples_leaf=1, min_samples_split=5, n_estimators=212, oob_score=True, total=   5.0s\n",
      "[CV] max_depth=5, min_samples_leaf=1, min_samples_split=5, n_estimators=212, oob_score=True \n",
      "[CV]  max_depth=5, min_samples_leaf=1, min_samples_split=5, n_estimators=212, oob_score=True, total=   5.0s\n",
      "[CV] max_depth=5, min_samples_leaf=1, min_samples_split=5, n_estimators=212, oob_score=True \n",
      "[CV]  max_depth=5, min_samples_leaf=1, min_samples_split=5, n_estimators=212, oob_score=True, total=   5.5s\n",
      "[CV] max_depth=5, min_samples_leaf=1, min_samples_split=5, n_estimators=250, oob_score=True \n",
      "[CV]  max_depth=5, min_samples_leaf=1, min_samples_split=5, n_estimators=250, oob_score=True, total=   6.0s\n",
      "[CV] max_depth=5, min_samples_leaf=1, min_samples_split=5, n_estimators=250, oob_score=True \n",
      "[CV]  max_depth=5, min_samples_leaf=1, min_samples_split=5, n_estimators=250, oob_score=True, total=   5.8s\n",
      "[CV] max_depth=5, min_samples_leaf=1, min_samples_split=5, n_estimators=250, oob_score=True \n",
      "[CV]  max_depth=5, min_samples_leaf=1, min_samples_split=5, n_estimators=250, oob_score=True, total=   5.8s\n",
      "[CV] max_depth=5, min_samples_leaf=1, min_samples_split=5, n_estimators=250, oob_score=True \n",
      "[CV]  max_depth=5, min_samples_leaf=1, min_samples_split=5, n_estimators=250, oob_score=True, total=   6.0s\n",
      "[CV] max_depth=5, min_samples_leaf=1, min_samples_split=5, n_estimators=250, oob_score=True \n",
      "[CV]  max_depth=5, min_samples_leaf=1, min_samples_split=5, n_estimators=250, oob_score=True, total=   7.6s\n",
      "[CV] max_depth=5, min_samples_leaf=2, min_samples_split=2, n_estimators=100, oob_score=True \n",
      "[CV]  max_depth=5, min_samples_leaf=2, min_samples_split=2, n_estimators=100, oob_score=True, total=   2.7s\n",
      "[CV] max_depth=5, min_samples_leaf=2, min_samples_split=2, n_estimators=100, oob_score=True \n",
      "[CV]  max_depth=5, min_samples_leaf=2, min_samples_split=2, n_estimators=100, oob_score=True, total=   5.3s\n",
      "[CV] max_depth=5, min_samples_leaf=2, min_samples_split=2, n_estimators=100, oob_score=True \n"
     ]
    }
   ],
   "source": [
    "RFC = RandomForestClassifier(random_state = 201)\n",
    "RFC_CV = GridSearchCV(estimator = RFC, param_grid = params_grid, cv = 5, verbose = 2)\n",
    "RFC_CV.fit(X, y)"
   ]
  },
  {
   "cell_type": "markdown",
   "metadata": {},
   "source": [
    "# Selecting features and data preprocessing"
   ]
  },
  {
   "cell_type": "code",
   "execution_count": null,
   "metadata": {
    "execution": {
     "iopub.execute_input": "2021-11-16T17:21:45.367111Z",
     "iopub.status.busy": "2021-11-16T17:21:45.366810Z",
     "iopub.status.idle": "2021-11-16T17:21:45.374221Z",
     "shell.execute_reply": "2021-11-16T17:21:45.373125Z",
     "shell.execute_reply.started": "2021-11-16T17:21:45.367078Z"
    },
    "trusted": true
   },
   "outputs": [],
   "source": [
    "L1_features = ['ANKFY1', 'C2orf68', 'CEP128', 'CHST2', 'GABPA', 'GYS2', 'HDAC1', 'ITGA4', 'JARID2', 'MDM1', 'OLFML2A', 'PPP3CB', 'PRIM2', 'PRPF4B', 'PTGES3', 'RAP2B', 'SMC6', 'TIMELESS', 'TRDMT1', 'TRIM25', 'TSLP', 'UBE2G1', 'ZNF318']\n",
    "Anova_features = ['ABCB1', 'DOK4', 'SEZ6L2', 'PRPF4B', 'TBX3', 'RGS5', 'GPR22', 'COLEC11', 'SLC6A2', 'TFAP2B', 'ASTN2', 'C1QL4', 'PRIM2', 'PCSK1N', 'TRIM67', 'PNMA3', 'PODXL2', 'PHYHIPL', 'CRH', 'TMEM59L']\n",
    "RF_features = ['ACTL7A', 'ALDH18A1', 'ABCB1', 'GYS2', 'KERA', 'TACR2', 'GPR22', 'THY1', 'FOXR1', 'C17orf64', 'MRPL14', 'NACC1', 'HSPA8', 'RBX1', 'MAP7D2', 'ATF1', 'PLCD4', 'DNAH10', 'CRH', 'HEATR4', 'ARHGDIA', 'RCC2', 'UCN3', 'FGF16', 'TMBIM6', 'PRRT4', 'SNCG', 'TRIM25', 'PRPSAP1', 'RECQL', 'TMEM203', 'VASP', 'PTOV1', 'ESPN', 'SLC7A11', 'LGALSL', 'IRAK1BP1', 'POLD2']\n",
    "L1_set = set(L1_features)\n",
    "Anova_set = set(Anova_features)\n",
    "RF_set = set(RF_features)"
   ]
  },
  {
   "cell_type": "code",
   "execution_count": null,
   "metadata": {
    "execution": {
     "iopub.execute_input": "2021-11-16T17:40:33.498806Z",
     "iopub.status.busy": "2021-11-16T17:40:33.498517Z",
     "iopub.status.idle": "2021-11-16T17:40:33.504517Z",
     "shell.execute_reply": "2021-11-16T17:40:33.503910Z",
     "shell.execute_reply.started": "2021-11-16T17:40:33.498775Z"
    },
    "trusted": true
   },
   "outputs": [],
   "source": [
    "union_features = L1_set | Anova_set | RF_set\n",
    "intersect_features = L1_set & Anova_set & RF_set\n",
    "print(f\"Number of union features = {len(union_features)}\")\n",
    "print(f\"Number of intersect features = {len(intersect_features)}\")"
   ]
  },
  {
   "cell_type": "code",
   "execution_count": null,
   "metadata": {
    "execution": {
     "iopub.execute_input": "2021-11-16T17:40:34.255463Z",
     "iopub.status.busy": "2021-11-16T17:40:34.254878Z",
     "iopub.status.idle": "2021-11-16T17:40:34.261696Z",
     "shell.execute_reply": "2021-11-16T17:40:34.261011Z",
     "shell.execute_reply.started": "2021-11-16T17:40:34.255425Z"
    },
    "trusted": true
   },
   "outputs": [],
   "source": [
    "#remove two features not in testing dataset\n",
    "union_features.remove('ZNF318')\n",
    "union_features.remove('TMEM203')\n",
    "X_train = X[list(union_features)]\n",
    "X_test = CCLE_PDX[list(union_features)]"
   ]
  },
  {
   "cell_type": "code",
   "execution_count": null,
   "metadata": {
    "execution": {
     "iopub.execute_input": "2021-11-16T17:41:25.593103Z",
     "iopub.status.busy": "2021-11-16T17:41:25.592835Z",
     "iopub.status.idle": "2021-11-16T17:41:25.604756Z",
     "shell.execute_reply": "2021-11-16T17:41:25.603984Z",
     "shell.execute_reply.started": "2021-11-16T17:41:25.593073Z"
    },
    "trusted": true
   },
   "outputs": [],
   "source": [
    "SS = StandardScaler()\n",
    "#X_train = SS.fit_transform(X_train)\n",
    "#老師給的資料怪怪的，training dataset已經被normalize過了\n",
    "X_test = SS.fit_transform(X_test)"
   ]
  },
  {
   "cell_type": "markdown",
   "metadata": {},
   "source": [
    "# Level One Model\n",
    "- Ridge Regression\n",
    "- Random Forest\n",
    "- XGboost\n",
    "- Support Vector Machine\n",
    "- KNN"
   ]
  },
  {
   "cell_type": "markdown",
   "metadata": {},
   "source": [
    "### Ridge Regression"
   ]
  },
  {
   "cell_type": "code",
   "execution_count": null,
   "metadata": {
    "execution": {
     "iopub.execute_input": "2021-11-16T15:03:35.256177Z",
     "iopub.status.busy": "2021-11-16T15:03:35.255800Z",
     "iopub.status.idle": "2021-11-16T15:03:36.048612Z",
     "shell.execute_reply": "2021-11-16T15:03:36.047415Z",
     "shell.execute_reply.started": "2021-11-16T15:03:35.256140Z"
    },
    "trusted": true
   },
   "outputs": [],
   "source": [
    "clf_LG = LogisticRegressionCV(cv=5, penalty = \"l2\", random_state=5080).fit(X_train, y)\n",
    "acc = clf_LG.score(X_train, y)\n",
    "print(\"Best model hyperparameter is\")\n",
    "print(clf_LG.C_)\n",
    "print(f\"Training acc of best model = {round(acc * 100, 4)}%\")\n",
    "print(\"Cross Validation result in each parameter sets\")\n",
    "pd.DataFrame({\"C\":clf_LG.Cs_, \"Cross valid acc\": clf_LG.scores_[\"S\"].mean(axis = 0)})"
   ]
  },
  {
   "cell_type": "markdown",
   "metadata": {},
   "source": [
    "### Random Forest"
   ]
  },
  {
   "cell_type": "code",
   "execution_count": null,
   "metadata": {
    "execution": {
     "iopub.execute_input": "2021-11-16T14:55:13.585008Z",
     "iopub.status.busy": "2021-11-16T14:55:13.584505Z",
     "iopub.status.idle": "2021-11-16T14:55:13.592369Z",
     "shell.execute_reply": "2021-11-16T14:55:13.591493Z",
     "shell.execute_reply.started": "2021-11-16T14:55:13.584973Z"
    },
    "trusted": true
   },
   "outputs": [],
   "source": [
    "# Number of trees in random forest\n",
    "n_estimators = [int(x) for x in np.linspace(start = 100, stop = 500, num = 10)]\n",
    "# Maximum number of levels in tree\n",
    "max_depth = [int(x) for x in np.linspace(5, 10, num = 6)]\n",
    "# Minimum number of samples required to split a node\n",
    "min_samples_split = [2, 5]\n",
    "# Minimum number of samples required at each leaf node\n",
    "min_samples_leaf = [1, 2, 4]\n",
    "params_grid = {'n_estimators': n_estimators,\n",
    "               'max_depth': max_depth,\n",
    "               'min_samples_split': min_samples_split,\n",
    "               'min_samples_leaf': min_samples_leaf,\n",
    "               'oob_score': [True]}"
   ]
  },
  {
   "cell_type": "code",
   "execution_count": null,
   "metadata": {
    "execution": {
     "iopub.execute_input": "2021-11-16T15:03:45.859445Z",
     "iopub.status.busy": "2021-11-16T15:03:45.859080Z",
     "iopub.status.idle": "2021-11-16T15:15:52.060410Z",
     "shell.execute_reply": "2021-11-16T15:15:52.059585Z",
     "shell.execute_reply.started": "2021-11-16T15:03:45.859409Z"
    },
    "trusted": true
   },
   "outputs": [],
   "source": [
    "RFC = RandomForestClassifier(random_state = 201)\n",
    "RFC_CV = GridSearchCV(estimator = RFC, param_grid = params_grid, cv = 5, verbose = 1, n_jobs = -1)\n",
    "RFC_CV.fit(X_train, y)"
   ]
  },
  {
   "cell_type": "code",
   "execution_count": null,
   "metadata": {
    "execution": {
     "iopub.execute_input": "2021-11-16T15:16:07.228156Z",
     "iopub.status.busy": "2021-11-16T15:16:07.227317Z",
     "iopub.status.idle": "2021-11-16T15:16:07.270159Z",
     "shell.execute_reply": "2021-11-16T15:16:07.269463Z",
     "shell.execute_reply.started": "2021-11-16T15:16:07.228101Z"
    },
    "trusted": true
   },
   "outputs": [],
   "source": [
    "print(\"Best estimators after Cross Validation is\")\n",
    "print(RFC_CV.best_params_)\n",
    "print(f\"with cross validation acc = {round(RFC_CV.best_score_, 4) * 100}%\")\n",
    "print(f\"Training accuracy after refit= {round(RFC_CV.score(X_train, y) * 100, 4)}%\")"
   ]
  },
  {
   "cell_type": "markdown",
   "metadata": {},
   "source": [
    "### SVM"
   ]
  },
  {
   "cell_type": "code",
   "execution_count": null,
   "metadata": {
    "execution": {
     "iopub.execute_input": "2021-11-16T17:22:17.128816Z",
     "iopub.status.busy": "2021-11-16T17:22:17.128090Z",
     "iopub.status.idle": "2021-11-16T17:22:17.134682Z",
     "shell.execute_reply": "2021-11-16T17:22:17.133441Z",
     "shell.execute_reply.started": "2021-11-16T17:22:17.128767Z"
    },
    "trusted": true
   },
   "outputs": [],
   "source": [
    "param_grid = {'C': [0.1,1, 10, 100], 'gamma': [1,0.1,0.01,0.001],'kernel': ['rbf', 'poly', 'sigmoid']}"
   ]
  },
  {
   "cell_type": "code",
   "execution_count": null,
   "metadata": {
    "execution": {
     "iopub.execute_input": "2021-11-16T17:22:20.163774Z",
     "iopub.status.busy": "2021-11-16T17:22:20.163488Z",
     "iopub.status.idle": "2021-11-16T17:22:23.965766Z",
     "shell.execute_reply": "2021-11-16T17:22:23.965021Z",
     "shell.execute_reply.started": "2021-11-16T17:22:20.163736Z"
    },
    "trusted": true
   },
   "outputs": [],
   "source": [
    "grid = GridSearchCV(SVC(),param_grid,refit=True,verbose=1)\n",
    "grid.fit(X_train,y)"
   ]
  },
  {
   "cell_type": "code",
   "execution_count": null,
   "metadata": {
    "execution": {
     "iopub.execute_input": "2021-11-16T17:22:30.065556Z",
     "iopub.status.busy": "2021-11-16T17:22:30.064366Z",
     "iopub.status.idle": "2021-11-16T17:22:30.071606Z",
     "shell.execute_reply": "2021-11-16T17:22:30.070771Z",
     "shell.execute_reply.started": "2021-11-16T17:22:30.065500Z"
    },
    "trusted": true
   },
   "outputs": [],
   "source": [
    "print(grid.best_estimator_)"
   ]
  },
  {
   "cell_type": "markdown",
   "metadata": {},
   "source": [
    "### KNN"
   ]
  },
  {
   "cell_type": "code",
   "execution_count": null,
   "metadata": {
    "execution": {
     "iopub.execute_input": "2021-11-16T17:28:46.094354Z",
     "iopub.status.busy": "2021-11-16T17:28:46.093312Z",
     "iopub.status.idle": "2021-11-16T17:28:46.100460Z",
     "shell.execute_reply": "2021-11-16T17:28:46.099440Z",
     "shell.execute_reply.started": "2021-11-16T17:28:46.094279Z"
    },
    "trusted": true
   },
   "outputs": [],
   "source": [
    "k_max = round(np.sqrt(X_train.shape[0]))\n",
    "k_range = list(range(3, k_max, 3))\n",
    "param_grid = {\n",
    "    \"n_neighbors\": k_range,\n",
    "    \"weights\": [\"uniform\", \"distance\"],\n",
    "    \"metric\": [\"euclidean\", \"manhattan\"]\n",
    "}"
   ]
  },
  {
   "cell_type": "code",
   "execution_count": null,
   "metadata": {
    "execution": {
     "iopub.execute_input": "2021-11-16T17:28:47.430053Z",
     "iopub.status.busy": "2021-11-16T17:28:47.429404Z",
     "iopub.status.idle": "2021-11-16T17:28:47.894597Z",
     "shell.execute_reply": "2021-11-16T17:28:47.893897Z",
     "shell.execute_reply.started": "2021-11-16T17:28:47.430010Z"
    },
    "trusted": true
   },
   "outputs": [],
   "source": [
    "KNN = KNeighborsClassifier()\n",
    "GS = GridSearchCV(KNN, \n",
    "    param_grid, \n",
    "    verbose = 1,\n",
    "    cv = 5, n_jobs = -1).fit(X_train, y)"
   ]
  },
  {
   "cell_type": "code",
   "execution_count": null,
   "metadata": {
    "execution": {
     "iopub.execute_input": "2021-11-16T17:28:59.285965Z",
     "iopub.status.busy": "2021-11-16T17:28:59.285430Z",
     "iopub.status.idle": "2021-11-16T17:28:59.327116Z",
     "shell.execute_reply": "2021-11-16T17:28:59.326263Z",
     "shell.execute_reply.started": "2021-11-16T17:28:59.285918Z"
    },
    "trusted": true
   },
   "outputs": [],
   "source": [
    "GS.best_estimator_.score(X_train, y)"
   ]
  },
  {
   "cell_type": "code",
   "execution_count": null,
   "metadata": {
    "execution": {
     "iopub.execute_input": "2021-11-16T17:25:38.614709Z",
     "iopub.status.busy": "2021-11-16T17:25:38.614047Z",
     "iopub.status.idle": "2021-11-16T17:25:38.619629Z",
     "shell.execute_reply": "2021-11-16T17:25:38.618767Z",
     "shell.execute_reply.started": "2021-11-16T17:25:38.614667Z"
    },
    "trusted": true
   },
   "outputs": [],
   "source": [
    "print(GS.best_estimator_)"
   ]
  },
  {
   "cell_type": "markdown",
   "metadata": {},
   "source": [
    "# Stacking model"
   ]
  },
  {
   "cell_type": "code",
   "execution_count": null,
   "metadata": {
    "execution": {
     "iopub.execute_input": "2021-11-16T17:46:24.706356Z",
     "iopub.status.busy": "2021-11-16T17:46:24.706070Z",
     "iopub.status.idle": "2021-11-16T17:46:31.263683Z",
     "shell.execute_reply": "2021-11-16T17:46:31.262791Z",
     "shell.execute_reply.started": "2021-11-16T17:46:24.706327Z"
    },
    "trusted": true
   },
   "outputs": [],
   "source": [
    "Ridge = LogisticRegression(C = 0.04641589, penalty = \"l2\")\n",
    "RF = RandomForestClassifier(random_state = 201, max_depth= 10,\n",
    "                            min_samples_leaf= 1, min_samples_split= 5, n_estimators= 188, oob_score= True)\n",
    "SVM = SVC(C=1, gamma=0.01, kernel='sigmoid')\n",
    "KNN = KNeighborsClassifier(metric='manhattan', n_neighbors=3)\n",
    "base_learners = [\n",
    "    (\"Ridge\", Ridge),\n",
    "    (\"RF\", RF),\n",
    "    (\"SVM\", SVM),\n",
    "    (\"KNN\", KNN)\n",
    "]\n",
    "clf = StackingClassifier(\n",
    "    estimators = base_learners, \n",
    "    final_estimator = LogisticRegression(),\n",
    "    cv = 10,\n",
    "    n_jobs = -1,\n",
    "    verbose = 1\n",
    ")\n",
    "clf.fit(X_train, y)"
   ]
  },
  {
   "cell_type": "code",
   "execution_count": null,
   "metadata": {
    "execution": {
     "iopub.execute_input": "2021-11-16T17:46:36.327343Z",
     "iopub.status.busy": "2021-11-16T17:46:36.327073Z",
     "iopub.status.idle": "2021-11-16T17:46:36.442034Z",
     "shell.execute_reply": "2021-11-16T17:46:36.441010Z",
     "shell.execute_reply.started": "2021-11-16T17:46:36.327315Z"
    },
    "trusted": true
   },
   "outputs": [],
   "source": [
    "y_pred = clf.predict(X_test)\n",
    "result = pd.concat([CCLE_PDX[\"CCLE.Cell.Line.Name\"], pd.DataFrame({\"prediction\": y_pred})], axis = 1)\n",
    "result.to_csv(\"b06702064_prediction.csv\", index = False)"
   ]
  }
 ],
 "metadata": {
  "interpreter": {
   "hash": "853a6c1de715781c4e36e93313002732d37040606184d41a7b9ff831089b66e5"
  },
  "kernelspec": {
   "display_name": "Python 3.7.10 64-bit ('EEML': conda)",
   "language": "python",
   "name": "python3"
  },
  "language_info": {
   "codemirror_mode": {
    "name": "ipython",
    "version": 3
   },
   "file_extension": ".py",
   "mimetype": "text/x-python",
   "name": "python",
   "nbconvert_exporter": "python",
   "pygments_lexer": "ipython3",
   "version": "3.7.10"
  },
  "orig_nbformat": 4
 },
 "nbformat": 4,
 "nbformat_minor": 2
}
